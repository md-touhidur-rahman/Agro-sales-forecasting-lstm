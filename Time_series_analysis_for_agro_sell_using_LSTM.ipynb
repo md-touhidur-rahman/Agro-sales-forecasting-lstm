{
  "nbformat": 4,
  "nbformat_minor": 0,
  "metadata": {
    "colab": {
      "provenance": []
    },
    "kernelspec": {
      "name": "python3",
      "display_name": "Python 3"
    },
    "language_info": {
      "name": "python"
    }
  },
  "cells": [
    {
      "cell_type": "code",
      "execution_count": null,
      "metadata": {
        "id": "yV7Bs9dYKndY",
        "colab": {
          "base_uri": "https://localhost:8080/"
        },
        "outputId": "7ad791ef-cbb9-476d-c84e-fabd97af83f3"
      },
      "outputs": [
        {
          "output_type": "stream",
          "name": "stdout",
          "text": [
            "Mounted at /content/gdrive\n"
          ]
        }
      ],
      "source": [
        " from google.colab import drive\n",
        "drive.mount('/content/gdrive')"
      ]
    },
    {
      "cell_type": "code",
      "source": [
        "import pandas as pd\n",
        "d = pd.read_csv('/content/gdrive/MyDrive/Final Project/fdata.csv')"
      ],
      "metadata": {
        "id": "yulDSPP1Kuwf"
      },
      "execution_count": null,
      "outputs": []
    },
    {
      "cell_type": "code",
      "source": [],
      "metadata": {
        "id": "DrA2ncUlhJP5"
      },
      "execution_count": null,
      "outputs": []
    },
    {
      "cell_type": "code",
      "source": [
        "d"
      ],
      "metadata": {
        "colab": {
          "base_uri": "https://localhost:8080/",
          "height": 424
        },
        "id": "QPtNDXQBXSAc",
        "outputId": "b5ee8e08-4943-4fd1-f95c-707fe52813ca"
      },
      "execution_count": null,
      "outputs": [
        {
          "output_type": "execute_result",
          "data": {
            "text/plain": [
              "           time  product_code       product_name  pack_size  carton_size  \\\n",
              "0    2019-05-01           101           3 Option         25           40   \n",
              "1    2019-06-01           101           3 Option         25           40   \n",
              "2    2019-07-01           101           3 Option         25           40   \n",
              "3    2019-08-01           101           3 Option         25           40   \n",
              "4    2019-05-01           102           3 Option         50           30   \n",
              "..          ...           ...                ...        ...          ...   \n",
              "827  2019-08-01           701  Zangol Mara 18 WP        100           24   \n",
              "828  2019-05-01           701  Zangol Mara 18 WP        100           24   \n",
              "829  2019-06-01           701  Zangol Mara 18 WP        100           24   \n",
              "830  2019-07-01           701  Zangol Mara 18 WP        100           24   \n",
              "831  2019-08-01           701  Zangol Mara 18 WP        100           24   \n",
              "\n",
              "     cartoon_price  packet_price  cartoon_quantity  packet_quantity   value  \\\n",
              "0             4200           105                10                0   33600   \n",
              "1             4200           105                10                0   33600   \n",
              "2             4200           105                10                0   33600   \n",
              "3             4200           105                10                0   33600   \n",
              "4             5850           195               127                0  594360   \n",
              "..             ...           ...               ...              ...     ...   \n",
              "827           1560            65                37                0   46176   \n",
              "828           1560            65                88                0  109824   \n",
              "829           1560            65                88                0  109824   \n",
              "830           1560            65                88                0  109824   \n",
              "831           1560            65                88                0  109824   \n",
              "\n",
              "     region_code     use    sale  \n",
              "0          10000  fungus    8800  \n",
              "1          10000  fungus    9100  \n",
              "2          10000  fungus    9355  \n",
              "3          10000  fungus    6345  \n",
              "4          10000  fungus  142590  \n",
              "..           ...     ...     ...  \n",
              "827        40000    weed   11854  \n",
              "828        50000    weed   27456  \n",
              "829        50000    weed   16473  \n",
              "830        50000    weed   34947  \n",
              "831        50000    weed   30948  \n",
              "\n",
              "[832 rows x 13 columns]"
            ],
            "text/html": [
              "\n",
              "  <div id=\"df-d2b0e036-4078-491d-bf05-c5e06f7eef1a\">\n",
              "    <div class=\"colab-df-container\">\n",
              "      <div>\n",
              "<style scoped>\n",
              "    .dataframe tbody tr th:only-of-type {\n",
              "        vertical-align: middle;\n",
              "    }\n",
              "\n",
              "    .dataframe tbody tr th {\n",
              "        vertical-align: top;\n",
              "    }\n",
              "\n",
              "    .dataframe thead th {\n",
              "        text-align: right;\n",
              "    }\n",
              "</style>\n",
              "<table border=\"1\" class=\"dataframe\">\n",
              "  <thead>\n",
              "    <tr style=\"text-align: right;\">\n",
              "      <th></th>\n",
              "      <th>time</th>\n",
              "      <th>product_code</th>\n",
              "      <th>product_name</th>\n",
              "      <th>pack_size</th>\n",
              "      <th>carton_size</th>\n",
              "      <th>cartoon_price</th>\n",
              "      <th>packet_price</th>\n",
              "      <th>cartoon_quantity</th>\n",
              "      <th>packet_quantity</th>\n",
              "      <th>value</th>\n",
              "      <th>region_code</th>\n",
              "      <th>use</th>\n",
              "      <th>sale</th>\n",
              "    </tr>\n",
              "  </thead>\n",
              "  <tbody>\n",
              "    <tr>\n",
              "      <th>0</th>\n",
              "      <td>2019-05-01</td>\n",
              "      <td>101</td>\n",
              "      <td>3 Option</td>\n",
              "      <td>25</td>\n",
              "      <td>40</td>\n",
              "      <td>4200</td>\n",
              "      <td>105</td>\n",
              "      <td>10</td>\n",
              "      <td>0</td>\n",
              "      <td>33600</td>\n",
              "      <td>10000</td>\n",
              "      <td>fungus</td>\n",
              "      <td>8800</td>\n",
              "    </tr>\n",
              "    <tr>\n",
              "      <th>1</th>\n",
              "      <td>2019-06-01</td>\n",
              "      <td>101</td>\n",
              "      <td>3 Option</td>\n",
              "      <td>25</td>\n",
              "      <td>40</td>\n",
              "      <td>4200</td>\n",
              "      <td>105</td>\n",
              "      <td>10</td>\n",
              "      <td>0</td>\n",
              "      <td>33600</td>\n",
              "      <td>10000</td>\n",
              "      <td>fungus</td>\n",
              "      <td>9100</td>\n",
              "    </tr>\n",
              "    <tr>\n",
              "      <th>2</th>\n",
              "      <td>2019-07-01</td>\n",
              "      <td>101</td>\n",
              "      <td>3 Option</td>\n",
              "      <td>25</td>\n",
              "      <td>40</td>\n",
              "      <td>4200</td>\n",
              "      <td>105</td>\n",
              "      <td>10</td>\n",
              "      <td>0</td>\n",
              "      <td>33600</td>\n",
              "      <td>10000</td>\n",
              "      <td>fungus</td>\n",
              "      <td>9355</td>\n",
              "    </tr>\n",
              "    <tr>\n",
              "      <th>3</th>\n",
              "      <td>2019-08-01</td>\n",
              "      <td>101</td>\n",
              "      <td>3 Option</td>\n",
              "      <td>25</td>\n",
              "      <td>40</td>\n",
              "      <td>4200</td>\n",
              "      <td>105</td>\n",
              "      <td>10</td>\n",
              "      <td>0</td>\n",
              "      <td>33600</td>\n",
              "      <td>10000</td>\n",
              "      <td>fungus</td>\n",
              "      <td>6345</td>\n",
              "    </tr>\n",
              "    <tr>\n",
              "      <th>4</th>\n",
              "      <td>2019-05-01</td>\n",
              "      <td>102</td>\n",
              "      <td>3 Option</td>\n",
              "      <td>50</td>\n",
              "      <td>30</td>\n",
              "      <td>5850</td>\n",
              "      <td>195</td>\n",
              "      <td>127</td>\n",
              "      <td>0</td>\n",
              "      <td>594360</td>\n",
              "      <td>10000</td>\n",
              "      <td>fungus</td>\n",
              "      <td>142590</td>\n",
              "    </tr>\n",
              "    <tr>\n",
              "      <th>...</th>\n",
              "      <td>...</td>\n",
              "      <td>...</td>\n",
              "      <td>...</td>\n",
              "      <td>...</td>\n",
              "      <td>...</td>\n",
              "      <td>...</td>\n",
              "      <td>...</td>\n",
              "      <td>...</td>\n",
              "      <td>...</td>\n",
              "      <td>...</td>\n",
              "      <td>...</td>\n",
              "      <td>...</td>\n",
              "      <td>...</td>\n",
              "    </tr>\n",
              "    <tr>\n",
              "      <th>827</th>\n",
              "      <td>2019-08-01</td>\n",
              "      <td>701</td>\n",
              "      <td>Zangol Mara 18 WP</td>\n",
              "      <td>100</td>\n",
              "      <td>24</td>\n",
              "      <td>1560</td>\n",
              "      <td>65</td>\n",
              "      <td>37</td>\n",
              "      <td>0</td>\n",
              "      <td>46176</td>\n",
              "      <td>40000</td>\n",
              "      <td>weed</td>\n",
              "      <td>11854</td>\n",
              "    </tr>\n",
              "    <tr>\n",
              "      <th>828</th>\n",
              "      <td>2019-05-01</td>\n",
              "      <td>701</td>\n",
              "      <td>Zangol Mara 18 WP</td>\n",
              "      <td>100</td>\n",
              "      <td>24</td>\n",
              "      <td>1560</td>\n",
              "      <td>65</td>\n",
              "      <td>88</td>\n",
              "      <td>0</td>\n",
              "      <td>109824</td>\n",
              "      <td>50000</td>\n",
              "      <td>weed</td>\n",
              "      <td>27456</td>\n",
              "    </tr>\n",
              "    <tr>\n",
              "      <th>829</th>\n",
              "      <td>2019-06-01</td>\n",
              "      <td>701</td>\n",
              "      <td>Zangol Mara 18 WP</td>\n",
              "      <td>100</td>\n",
              "      <td>24</td>\n",
              "      <td>1560</td>\n",
              "      <td>65</td>\n",
              "      <td>88</td>\n",
              "      <td>0</td>\n",
              "      <td>109824</td>\n",
              "      <td>50000</td>\n",
              "      <td>weed</td>\n",
              "      <td>16473</td>\n",
              "    </tr>\n",
              "    <tr>\n",
              "      <th>830</th>\n",
              "      <td>2019-07-01</td>\n",
              "      <td>701</td>\n",
              "      <td>Zangol Mara 18 WP</td>\n",
              "      <td>100</td>\n",
              "      <td>24</td>\n",
              "      <td>1560</td>\n",
              "      <td>65</td>\n",
              "      <td>88</td>\n",
              "      <td>0</td>\n",
              "      <td>109824</td>\n",
              "      <td>50000</td>\n",
              "      <td>weed</td>\n",
              "      <td>34947</td>\n",
              "    </tr>\n",
              "    <tr>\n",
              "      <th>831</th>\n",
              "      <td>2019-08-01</td>\n",
              "      <td>701</td>\n",
              "      <td>Zangol Mara 18 WP</td>\n",
              "      <td>100</td>\n",
              "      <td>24</td>\n",
              "      <td>1560</td>\n",
              "      <td>65</td>\n",
              "      <td>88</td>\n",
              "      <td>0</td>\n",
              "      <td>109824</td>\n",
              "      <td>50000</td>\n",
              "      <td>weed</td>\n",
              "      <td>30948</td>\n",
              "    </tr>\n",
              "  </tbody>\n",
              "</table>\n",
              "<p>832 rows × 13 columns</p>\n",
              "</div>\n",
              "      <button class=\"colab-df-convert\" onclick=\"convertToInteractive('df-d2b0e036-4078-491d-bf05-c5e06f7eef1a')\"\n",
              "              title=\"Convert this dataframe to an interactive table.\"\n",
              "              style=\"display:none;\">\n",
              "        \n",
              "  <svg xmlns=\"http://www.w3.org/2000/svg\" height=\"24px\"viewBox=\"0 0 24 24\"\n",
              "       width=\"24px\">\n",
              "    <path d=\"M0 0h24v24H0V0z\" fill=\"none\"/>\n",
              "    <path d=\"M18.56 5.44l.94 2.06.94-2.06 2.06-.94-2.06-.94-.94-2.06-.94 2.06-2.06.94zm-11 1L8.5 8.5l.94-2.06 2.06-.94-2.06-.94L8.5 2.5l-.94 2.06-2.06.94zm10 10l.94 2.06.94-2.06 2.06-.94-2.06-.94-.94-2.06-.94 2.06-2.06.94z\"/><path d=\"M17.41 7.96l-1.37-1.37c-.4-.4-.92-.59-1.43-.59-.52 0-1.04.2-1.43.59L10.3 9.45l-7.72 7.72c-.78.78-.78 2.05 0 2.83L4 21.41c.39.39.9.59 1.41.59.51 0 1.02-.2 1.41-.59l7.78-7.78 2.81-2.81c.8-.78.8-2.07 0-2.86zM5.41 20L4 18.59l7.72-7.72 1.47 1.35L5.41 20z\"/>\n",
              "  </svg>\n",
              "      </button>\n",
              "      \n",
              "  <style>\n",
              "    .colab-df-container {\n",
              "      display:flex;\n",
              "      flex-wrap:wrap;\n",
              "      gap: 12px;\n",
              "    }\n",
              "\n",
              "    .colab-df-convert {\n",
              "      background-color: #E8F0FE;\n",
              "      border: none;\n",
              "      border-radius: 50%;\n",
              "      cursor: pointer;\n",
              "      display: none;\n",
              "      fill: #1967D2;\n",
              "      height: 32px;\n",
              "      padding: 0 0 0 0;\n",
              "      width: 32px;\n",
              "    }\n",
              "\n",
              "    .colab-df-convert:hover {\n",
              "      background-color: #E2EBFA;\n",
              "      box-shadow: 0px 1px 2px rgba(60, 64, 67, 0.3), 0px 1px 3px 1px rgba(60, 64, 67, 0.15);\n",
              "      fill: #174EA6;\n",
              "    }\n",
              "\n",
              "    [theme=dark] .colab-df-convert {\n",
              "      background-color: #3B4455;\n",
              "      fill: #D2E3FC;\n",
              "    }\n",
              "\n",
              "    [theme=dark] .colab-df-convert:hover {\n",
              "      background-color: #434B5C;\n",
              "      box-shadow: 0px 1px 3px 1px rgba(0, 0, 0, 0.15);\n",
              "      filter: drop-shadow(0px 1px 2px rgba(0, 0, 0, 0.3));\n",
              "      fill: #FFFFFF;\n",
              "    }\n",
              "  </style>\n",
              "\n",
              "      <script>\n",
              "        const buttonEl =\n",
              "          document.querySelector('#df-d2b0e036-4078-491d-bf05-c5e06f7eef1a button.colab-df-convert');\n",
              "        buttonEl.style.display =\n",
              "          google.colab.kernel.accessAllowed ? 'block' : 'none';\n",
              "\n",
              "        async function convertToInteractive(key) {\n",
              "          const element = document.querySelector('#df-d2b0e036-4078-491d-bf05-c5e06f7eef1a');\n",
              "          const dataTable =\n",
              "            await google.colab.kernel.invokeFunction('convertToInteractive',\n",
              "                                                     [key], {});\n",
              "          if (!dataTable) return;\n",
              "\n",
              "          const docLinkHtml = 'Like what you see? Visit the ' +\n",
              "            '<a target=\"_blank\" href=https://colab.research.google.com/notebooks/data_table.ipynb>data table notebook</a>'\n",
              "            + ' to learn more about interactive tables.';\n",
              "          element.innerHTML = '';\n",
              "          dataTable['output_type'] = 'display_data';\n",
              "          await google.colab.output.renderOutput(dataTable, element);\n",
              "          const docLink = document.createElement('div');\n",
              "          docLink.innerHTML = docLinkHtml;\n",
              "          element.appendChild(docLink);\n",
              "        }\n",
              "      </script>\n",
              "    </div>\n",
              "  </div>\n",
              "  "
            ]
          },
          "metadata": {},
          "execution_count": 3
        }
      ]
    },
    {
      "cell_type": "code",
      "source": [
        "import pandas as pd\n",
        "\n",
        "# Visualization\n",
        "import matplotlib.pyplot as plt\n",
        "import seaborn as sns\n",
        "\n",
        "# Date wrangling\n",
        "import datetime\n",
        "\n",
        "# Math operations\n",
        "import numpy as np\n",
        "\n",
        "# Random sampling\n",
        "import random\n",
        "\n",
        "# Keras API\n",
        "from tensorflow import keras\n",
        "\n",
        "# Deep learning\n",
        "from keras.models import Input, Model, Sequential\n",
        "from keras.layers import Dense, Dropout, LSTM, Concatenate, SimpleRNN, Masking, Flatten\n",
        "from keras import losses\n",
        "from keras.callbacks import EarlyStopping\n",
        "from keras.initializers import RandomNormal"
      ],
      "metadata": {
        "id": "DlL25Rjg08ru"
      },
      "execution_count": null,
      "outputs": []
    },
    {
      "cell_type": "code",
      "source": [
        "plt.figure(figsize=(24, 16))\n",
        "plt.plot('product_name', 'sale', data=d)\n",
        "plt.title('monthly sales graph')\n",
        "plt.ylabel('sale')\n",
        "plt.xlabel('product_name')\n",
        "plt.show()"
      ],
      "metadata": {
        "colab": {
          "base_uri": "https://localhost:8080/",
          "height": 949
        },
        "id": "oHEeovwWG8wj",
        "outputId": "d40927ee-e6f6-44d2-c894-807d81017a43"
      },
      "execution_count": null,
      "outputs": [
        {
          "output_type": "display_data",
          "data": {
            "text/plain": [
              "<Figure size 1728x1152 with 1 Axes>"
            ],
            "image/png": "[encoded data removed]"
          },
          "metadata": {
            "needs_background": "light"
          }
        }
      ]
    },
    {
      "cell_type": "code",
      "source": [],
      "metadata": {
        "id": "fV0FDm_VG8_N"
      },
      "execution_count": null,
      "outputs": []
    },
    {
      "cell_type": "code",
      "source": [
        "import pandas as pd # importing them, now \"pd\" is defined\n",
        "\n",
        "def foo(): ... # defining a function, now \"foo\" is defined\n",
        "\n",
        "bar = 10 # assigning variables, now \"bar\" is defined\n",
        "\n",
        "class Baz(object): ... # creating classes, now \"Baz\" is defined"
      ],
      "metadata": {
        "id": "-n8IsUre1cxn"
      },
      "execution_count": null,
      "outputs": []
    },
    {
      "cell_type": "markdown",
      "source": [],
      "metadata": {
        "id": "fjcsoe5r0rfr"
      }
    },
    {
      "cell_type": "code",
      "source": [
        "plt.figure(figsize=(16, 10))\n",
        "plt.plot('use', 'sale', data=d)\n",
        "plt.title('monthly sales graph by USE')\n",
        "plt.ylabel('sale')\n",
        "plt.xlabel('use')\n",
        "plt.show()"
      ],
      "metadata": {
        "colab": {
          "base_uri": "https://localhost:8080/",
          "height": 621
        },
        "id": "KIP8EQkb0sMc",
        "outputId": "6e4bd0e2-2aa1-457d-bca0-477caa526053"
      },
      "execution_count": null,
      "outputs": [
        {
          "output_type": "display_data",
          "data": {
            "text/plain": [
              "<Figure size 1152x720 with 1 Axes>"
            ],
            "image/png": "[encoded data removed]"
          },
          "metadata": {
            "needs_background": "light"
          }
        }
      ]
    },
    {
      "cell_type": "code",
      "source": [
        "plt.figure(figsize=(16, 10))\n",
        "plt.plot('use', 'sale', data=d)\n",
        "plt.title('monthly sales graph by USE')\n",
        "plt.ylabel('sale')\n",
        "plt.xlabel('use')\n",
        "plt.show()"
      ],
      "metadata": {
        "id": "sdC6zHjc0sYh"
      },
      "execution_count": null,
      "outputs": []
    },
    {
      "cell_type": "code",
      "source": [
        "\n",
        "from sklearn.datasets import make_regression\n",
        "from matplotlib import pyplot\n",
        "# generate regression dataset\n",
        "X, y = make_regression(n_samples=100, n_features=1, noise=0.1)\n",
        "# plot regression dataset\n",
        "pyplot.scatter(X,y)\n",
        "pyplot.show()"
      ],
      "metadata": {
        "colab": {
          "base_uri": "https://localhost:8080/",
          "height": 265
        },
        "id": "Fo9als0U0sai",
        "outputId": "f8c58f74-9348-4c58-b8d6-76de2d188bbe"
      },
      "execution_count": null,
      "outputs": [
        {
          "output_type": "display_data",
          "data": {
            "text/plain": [
              "<Figure size 432x288 with 1 Axes>"
            ],
            "image/png": "[encoded data removed]"
          },
          "metadata": {
            "needs_background": "light"
          }
        }
      ]
    },
    {
      "cell_type": "code",
      "source": [],
      "metadata": {
        "id": "8OM7mU5_0seg"
      },
      "execution_count": null,
      "outputs": []
    },
    {
      "cell_type": "code",
      "source": [
        "d.drop(\"product_name\", axis=1, inplace=True)"
      ],
      "metadata": {
        "id": "3Lj5kHhBXiBx"
      },
      "execution_count": null,
      "outputs": []
    },
    {
      "cell_type": "code",
      "source": [
        "d.drop(\"use\", axis=1, inplace=True)"
      ],
      "metadata": {
        "id": "NsjU9XRsXn-s"
      },
      "execution_count": null,
      "outputs": []
    },
    {
      "cell_type": "code",
      "source": [
        "d"
      ],
      "metadata": {
        "colab": {
          "base_uri": "https://localhost:8080/",
          "height": 424
        },
        "id": "N4Tb1fqRXoDe",
        "outputId": "4e152100-b984-4170-b93d-b785d28a77ab"
      },
      "execution_count": null,
      "outputs": [
        {
          "output_type": "execute_result",
          "data": {
            "text/plain": [
              "           time  product_code  pack_size  carton_size  cartoon_price  \\\n",
              "0    2019-05-01           101         25           40           4200   \n",
              "1    2019-06-01           101         25           40           4200   \n",
              "2    2019-07-01           101         25           40           4200   \n",
              "3    2019-08-01           101         25           40           4200   \n",
              "4    2019-05-01           102         50           30           5850   \n",
              "..          ...           ...        ...          ...            ...   \n",
              "827  2019-08-01           701        100           24           1560   \n",
              "828  2019-05-01           701        100           24           1560   \n",
              "829  2019-06-01           701        100           24           1560   \n",
              "830  2019-07-01           701        100           24           1560   \n",
              "831  2019-08-01           701        100           24           1560   \n",
              "\n",
              "     packet_price  cartoon_quantity  packet_quantity   value  region_code  \\\n",
              "0             105                10                0   33600        10000   \n",
              "1             105                10                0   33600        10000   \n",
              "2             105                10                0   33600        10000   \n",
              "3             105                10                0   33600        10000   \n",
              "4             195               127                0  594360        10000   \n",
              "..            ...               ...              ...     ...          ...   \n",
              "827            65                37                0   46176        40000   \n",
              "828            65                88                0  109824        50000   \n",
              "829            65                88                0  109824        50000   \n",
              "830            65                88                0  109824        50000   \n",
              "831            65                88                0  109824        50000   \n",
              "\n",
              "       sale  \n",
              "0      8800  \n",
              "1      9100  \n",
              "2      9355  \n",
              "3      6345  \n",
              "4    142590  \n",
              "..      ...  \n",
              "827   11854  \n",
              "828   27456  \n",
              "829   16473  \n",
              "830   34947  \n",
              "831   30948  \n",
              "\n",
              "[832 rows x 11 columns]"
            ],
            "text/html": [
              "\n",
              "  <div id=\"df-8ea39574-c2a7-4637-b8ca-437878950ccb\">\n",
              "    <div class=\"colab-df-container\">\n",
              "      <div>\n",
              "<style scoped>\n",
              "    .dataframe tbody tr th:only-of-type {\n",
              "        vertical-align: middle;\n",
              "    }\n",
              "\n",
              "    .dataframe tbody tr th {\n",
              "        vertical-align: top;\n",
              "    }\n",
              "\n",
              "    .dataframe thead th {\n",
              "        text-align: right;\n",
              "    }\n",
              "</style>\n",
              "<table border=\"1\" class=\"dataframe\">\n",
              "  <thead>\n",
              "    <tr style=\"text-align: right;\">\n",
              "      <th></th>\n",
              "      <th>time</th>\n",
              "      <th>product_code</th>\n",
              "      <th>pack_size</th>\n",
              "      <th>carton_size</th>\n",
              "      <th>cartoon_price</th>\n",
              "      <th>packet_price</th>\n",
              "      <th>cartoon_quantity</th>\n",
              "      <th>packet_quantity</th>\n",
              "      <th>value</th>\n",
              "      <th>region_code</th>\n",
              "      <th>sale</th>\n",
              "    </tr>\n",
              "  </thead>\n",
              "  <tbody>\n",
              "    <tr>\n",
              "      <th>0</th>\n",
              "      <td>2019-05-01</td>\n",
              "      <td>101</td>\n",
              "      <td>25</td>\n",
              "      <td>40</td>\n",
              "      <td>4200</td>\n",
              "      <td>105</td>\n",
              "      <td>10</td>\n",
              "      <td>0</td>\n",
              "      <td>33600</td>\n",
              "      <td>10000</td>\n",
              "      <td>8800</td>\n",
              "    </tr>\n",
              "    <tr>\n",
              "      <th>1</th>\n",
              "      <td>2019-06-01</td>\n",
              "      <td>101</td>\n",
              "      <td>25</td>\n",
              "      <td>40</td>\n",
              "      <td>4200</td>\n",
              "      <td>105</td>\n",
              "      <td>10</td>\n",
              "      <td>0</td>\n",
              "      <td>33600</td>\n",
              "      <td>10000</td>\n",
              "      <td>9100</td>\n",
              "    </tr>\n",
              "    <tr>\n",
              "      <th>2</th>\n",
              "      <td>2019-07-01</td>\n",
              "      <td>101</td>\n",
              "      <td>25</td>\n",
              "      <td>40</td>\n",
              "      <td>4200</td>\n",
              "      <td>105</td>\n",
              "      <td>10</td>\n",
              "      <td>0</td>\n",
              "      <td>33600</td>\n",
              "      <td>10000</td>\n",
              "      <td>9355</td>\n",
              "    </tr>\n",
              "    <tr>\n",
              "      <th>3</th>\n",
              "      <td>2019-08-01</td>\n",
              "      <td>101</td>\n",
              "      <td>25</td>\n",
              "      <td>40</td>\n",
              "      <td>4200</td>\n",
              "      <td>105</td>\n",
              "      <td>10</td>\n",
              "      <td>0</td>\n",
              "      <td>33600</td>\n",
              "      <td>10000</td>\n",
              "      <td>6345</td>\n",
              "    </tr>\n",
              "    <tr>\n",
              "      <th>4</th>\n",
              "      <td>2019-05-01</td>\n",
              "      <td>102</td>\n",
              "      <td>50</td>\n",
              "      <td>30</td>\n",
              "      <td>5850</td>\n",
              "      <td>195</td>\n",
              "      <td>127</td>\n",
              "      <td>0</td>\n",
              "      <td>594360</td>\n",
              "      <td>10000</td>\n",
              "      <td>142590</td>\n",
              "    </tr>\n",
              "    <tr>\n",
              "      <th>...</th>\n",
              "      <td>...</td>\n",
              "      <td>...</td>\n",
              "      <td>...</td>\n",
              "      <td>...</td>\n",
              "      <td>...</td>\n",
              "      <td>...</td>\n",
              "      <td>...</td>\n",
              "      <td>...</td>\n",
              "      <td>...</td>\n",
              "      <td>...</td>\n",
              "      <td>...</td>\n",
              "    </tr>\n",
              "    <tr>\n",
              "      <th>827</th>\n",
              "      <td>2019-08-01</td>\n",
              "      <td>701</td>\n",
              "      <td>100</td>\n",
              "      <td>24</td>\n",
              "      <td>1560</td>\n",
              "      <td>65</td>\n",
              "      <td>37</td>\n",
              "      <td>0</td>\n",
              "      <td>46176</td>\n",
              "      <td>40000</td>\n",
              "      <td>11854</td>\n",
              "    </tr>\n",
              "    <tr>\n",
              "      <th>828</th>\n",
              "      <td>2019-05-01</td>\n",
              "      <td>701</td>\n",
              "      <td>100</td>\n",
              "      <td>24</td>\n",
              "      <td>1560</td>\n",
              "      <td>65</td>\n",
              "      <td>88</td>\n",
              "      <td>0</td>\n",
              "      <td>109824</td>\n",
              "      <td>50000</td>\n",
              "      <td>27456</td>\n",
              "    </tr>\n",
              "    <tr>\n",
              "      <th>829</th>\n",
              "      <td>2019-06-01</td>\n",
              "      <td>701</td>\n",
              "      <td>100</td>\n",
              "      <td>24</td>\n",
              "      <td>1560</td>\n",
              "      <td>65</td>\n",
              "      <td>88</td>\n",
              "      <td>0</td>\n",
              "      <td>109824</td>\n",
              "      <td>50000</td>\n",
              "      <td>16473</td>\n",
              "    </tr>\n",
              "    <tr>\n",
              "      <th>830</th>\n",
              "      <td>2019-07-01</td>\n",
              "      <td>701</td>\n",
              "      <td>100</td>\n",
              "      <td>24</td>\n",
              "      <td>1560</td>\n",
              "      <td>65</td>\n",
              "      <td>88</td>\n",
              "      <td>0</td>\n",
              "      <td>109824</td>\n",
              "      <td>50000</td>\n",
              "      <td>34947</td>\n",
              "    </tr>\n",
              "    <tr>\n",
              "      <th>831</th>\n",
              "      <td>2019-08-01</td>\n",
              "      <td>701</td>\n",
              "      <td>100</td>\n",
              "      <td>24</td>\n",
              "      <td>1560</td>\n",
              "      <td>65</td>\n",
              "      <td>88</td>\n",
              "      <td>0</td>\n",
              "      <td>109824</td>\n",
              "      <td>50000</td>\n",
              "      <td>30948</td>\n",
              "    </tr>\n",
              "  </tbody>\n",
              "</table>\n",
              "<p>832 rows × 11 columns</p>\n",
              "</div>\n",
              "      <button class=\"colab-df-convert\" onclick=\"convertToInteractive('df-8ea39574-c2a7-4637-b8ca-437878950ccb')\"\n",
              "              title=\"Convert this dataframe to an interactive table.\"\n",
              "              style=\"display:none;\">\n",
              "        \n",
              "  <svg xmlns=\"http://www.w3.org/2000/svg\" height=\"24px\"viewBox=\"0 0 24 24\"\n",
              "       width=\"24px\">\n",
              "    <path d=\"M0 0h24v24H0V0z\" fill=\"none\"/>\n",
              "    <path d=\"M18.56 5.44l.94 2.06.94-2.06 2.06-.94-2.06-.94-.94-2.06-.94 2.06-2.06.94zm-11 1L8.5 8.5l.94-2.06 2.06-.94-2.06-.94L8.5 2.5l-.94 2.06-2.06.94zm10 10l.94 2.06.94-2.06 2.06-.94-2.06-.94-.94-2.06-.94 2.06-2.06.94z\"/><path d=\"M17.41 7.96l-1.37-1.37c-.4-.4-.92-.59-1.43-.59-.52 0-1.04.2-1.43.59L10.3 9.45l-7.72 7.72c-.78.78-.78 2.05 0 2.83L4 21.41c.39.39.9.59 1.41.59.51 0 1.02-.2 1.41-.59l7.78-7.78 2.81-2.81c.8-.78.8-2.07 0-2.86zM5.41 20L4 18.59l7.72-7.72 1.47 1.35L5.41 20z\"/>\n",
              "  </svg>\n",
              "      </button>\n",
              "      \n",
              "  <style>\n",
              "    .colab-df-container {\n",
              "      display:flex;\n",
              "      flex-wrap:wrap;\n",
              "      gap: 12px;\n",
              "    }\n",
              "\n",
              "    .colab-df-convert {\n",
              "      background-color: #E8F0FE;\n",
              "      border: none;\n",
              "      border-radius: 50%;\n",
              "      cursor: pointer;\n",
              "      display: none;\n",
              "      fill: #1967D2;\n",
              "      height: 32px;\n",
              "      padding: 0 0 0 0;\n",
              "      width: 32px;\n",
              "    }\n",
              "\n",
              "    .colab-df-convert:hover {\n",
              "      background-color: #E2EBFA;\n",
              "      box-shadow: 0px 1px 2px rgba(60, 64, 67, 0.3), 0px 1px 3px 1px rgba(60, 64, 67, 0.15);\n",
              "      fill: #174EA6;\n",
              "    }\n",
              "\n",
              "    [theme=dark] .colab-df-convert {\n",
              "      background-color: #3B4455;\n",
              "      fill: #D2E3FC;\n",
              "    }\n",
              "\n",
              "    [theme=dark] .colab-df-convert:hover {\n",
              "      background-color: #434B5C;\n",
              "      box-shadow: 0px 1px 3px 1px rgba(0, 0, 0, 0.15);\n",
              "      filter: drop-shadow(0px 1px 2px rgba(0, 0, 0, 0.3));\n",
              "      fill: #FFFFFF;\n",
              "    }\n",
              "  </style>\n",
              "\n",
              "      <script>\n",
              "        const buttonEl =\n",
              "          document.querySelector('#df-8ea39574-c2a7-4637-b8ca-437878950ccb button.colab-df-convert');\n",
              "        buttonEl.style.display =\n",
              "          google.colab.kernel.accessAllowed ? 'block' : 'none';\n",
              "\n",
              "        async function convertToInteractive(key) {\n",
              "          const element = document.querySelector('#df-8ea39574-c2a7-4637-b8ca-437878950ccb');\n",
              "          const dataTable =\n",
              "            await google.colab.kernel.invokeFunction('convertToInteractive',\n",
              "                                                     [key], {});\n",
              "          if (!dataTable) return;\n",
              "\n",
              "          const docLinkHtml = 'Like what you see? Visit the ' +\n",
              "            '<a target=\"_blank\" href=https://colab.research.google.com/notebooks/data_table.ipynb>data table notebook</a>'\n",
              "            + ' to learn more about interactive tables.';\n",
              "          element.innerHTML = '';\n",
              "          dataTable['output_type'] = 'display_data';\n",
              "          await google.colab.output.renderOutput(dataTable, element);\n",
              "          const docLink = document.createElement('div');\n",
              "          docLink.innerHTML = docLinkHtml;\n",
              "          element.appendChild(docLink);\n",
              "        }\n",
              "      </script>\n",
              "    </div>\n",
              "  </div>\n",
              "  "
            ]
          },
          "metadata": {},
          "execution_count": 6
        }
      ]
    },
    {
      "cell_type": "code",
      "source": [
        "d.isnull().sum()"
      ],
      "metadata": {
        "colab": {
          "base_uri": "https://localhost:8080/"
        },
        "id": "gzv9ADeKXoKW",
        "outputId": "15051be4-4898-4be6-ab1b-70b214785759"
      },
      "execution_count": null,
      "outputs": [
        {
          "output_type": "execute_result",
          "data": {
            "text/plain": [
              "time                0\n",
              "product_code        0\n",
              "pack_size           0\n",
              "carton_size         0\n",
              "cartoon_price       0\n",
              "packet_price        0\n",
              "cartoon_quantity    0\n",
              "packet_quantity     0\n",
              "value               0\n",
              "region_code         0\n",
              "sale                0\n",
              "dtype: int64"
            ]
          },
          "metadata": {},
          "execution_count": 7
        }
      ]
    },
    {
      "cell_type": "code",
      "source": [
        "import pandas as pd\n",
        "\n",
        "# Visualization\n",
        "import matplotlib.pyplot as plt\n",
        "import seaborn as sns\n",
        "\n",
        "# Date wrangling\n",
        "import datetime\n",
        "\n",
        "# Math operations\n",
        "import numpy as np\n",
        "\n",
        "# Random sampling\n",
        "import random\n",
        "\n",
        "# Keras API\n",
        "from tensorflow import keras\n",
        "\n",
        "# Deep learning\n",
        "from keras.models import Input, Model, Sequential\n",
        "from keras.layers import Dense, Dropout, LSTM, Concatenate, SimpleRNN, Masking, Flatten\n",
        "from keras import losses\n",
        "from keras.callbacks import EarlyStopping\n",
        "from keras.initializers import RandomNormal"
      ],
      "metadata": {
        "id": "4TTpcEKOLDad"
      },
      "execution_count": null,
      "outputs": []
    },
    {
      "cell_type": "code",
      "source": [
        "def create_X_Y(ts: np.array, lag=1, n_ahead=1, target_index=0) -> tuple:\n",
        "    \"\"\"\n",
        "    A method to create X and Y matrix from a time series array for the training of\n",
        "    deep learning models\n",
        "    \"\"\"\n",
        "    # Extracting the number of features that are passed from the array\n",
        "    n_features = ts.shape[1]\n",
        "\n",
        "    # Creating placeholder lists\n",
        "    X, Y = [], []\n",
        "\n",
        "    if len(ts) - lag <= 0:\n",
        "        X.append(ts)\n",
        "    else:\n",
        "        for i in range(len(ts) - lag - n_ahead):\n",
        "            Y.append(ts[(i + lag):(i + lag + n_ahead), target_index])\n",
        "            X.append(ts[i:(i + lag)])\n",
        "\n",
        "    X, Y = np.array(X), np.array(Y)\n",
        "\n",
        "    # Reshaping the X array to an RNN input shape\n",
        "    X = np.reshape(X, (X.shape[0], lag, n_features))\n",
        "\n",
        "    return X, Y"
      ],
      "metadata": {
        "id": "u5G8qX2SLMU1"
      },
      "execution_count": null,
      "outputs": []
    },
    {
      "cell_type": "code",
      "source": [
        "print(f'Shape of data: {d.shape}')"
      ],
      "metadata": {
        "colab": {
          "base_uri": "https://localhost:8080/"
        },
        "id": "VvcOhofcLU5Q",
        "outputId": "317c7715-4d1b-4f35-e0ea-931ebb8c1815"
      },
      "execution_count": null,
      "outputs": [
        {
          "output_type": "stream",
          "name": "stdout",
          "text": [
            "Shape of data: (832, 11)\n"
          ]
        }
      ]
    },
    {
      "cell_type": "code",
      "source": [
        "d.dtypes"
      ],
      "metadata": {
        "colab": {
          "base_uri": "https://localhost:8080/"
        },
        "id": "VxvY1sW3LU9K",
        "outputId": "fafacbb1-c3af-4cca-bc85-ef55604555c0"
      },
      "execution_count": null,
      "outputs": [
        {
          "output_type": "execute_result",
          "data": {
            "text/plain": [
              "time                object\n",
              "product_code         int64\n",
              "pack_size            int64\n",
              "carton_size          int64\n",
              "cartoon_price        int64\n",
              "packet_price         int64\n",
              "cartoon_quantity     int64\n",
              "packet_quantity      int64\n",
              "value                int64\n",
              "region_code          int64\n",
              "sale                 int64\n",
              "dtype: object"
            ]
          },
          "metadata": {},
          "execution_count": 11
        }
      ]
    },
    {
      "cell_type": "code",
      "source": [
        "#d['time'] = pd.to_datetime(d['time']).astype(np.int64)\n"
      ],
      "metadata": {
        "id": "D1SMdOvfaTBg"
      },
      "execution_count": null,
      "outputs": []
    },
    {
      "cell_type": "code",
      "source": [
        "d.dtypes"
      ],
      "metadata": {
        "colab": {
          "base_uri": "https://localhost:8080/"
        },
        "id": "3bMZEBMGab8C",
        "outputId": "c933efd8-e13f-4c45-b5b8-7552be62ff4c"
      },
      "execution_count": null,
      "outputs": [
        {
          "output_type": "execute_result",
          "data": {
            "text/plain": [
              "time                object\n",
              "product_code         int64\n",
              "pack_size            int64\n",
              "carton_size          int64\n",
              "cartoon_price        int64\n",
              "packet_price         int64\n",
              "cartoon_quantity     int64\n",
              "packet_quantity      int64\n",
              "value                int64\n",
              "region_code          int64\n",
              "sale                 int64\n",
              "dtype: object"
            ]
          },
          "metadata": {},
          "execution_count": 12
        }
      ]
    },
    {
      "cell_type": "code",
      "source": [
        "#d['time'].strftime('%Y%m')\n",
        "print(str(d['time']).replace('-','')[:6])"
      ],
      "metadata": {
        "id": "sXDzp__oG7kJ",
        "colab": {
          "base_uri": "https://localhost:8080/"
        },
        "outputId": "ebcd9174-13a1-4271-bacb-a4cc29de4431"
      },
      "execution_count": null,
      "outputs": [
        {
          "output_type": "stream",
          "name": "stdout",
          "text": [
            "0     \n"
          ]
        }
      ]
    },
    {
      "cell_type": "code",
      "source": [
        "datetime_object = datetime.datetime.strptime('2019-06-01', '%Y-%m-%d')\n",
        "datetime_object"
      ],
      "metadata": {
        "colab": {
          "base_uri": "https://localhost:8080/"
        },
        "id": "E2fdtR8BEjUf",
        "outputId": "6b7b85fd-d332-4c25-c19e-775dfa43f111"
      },
      "execution_count": null,
      "outputs": [
        {
          "output_type": "execute_result",
          "data": {
            "text/plain": [
              "datetime.datetime(2019, 6, 1, 0, 0)"
            ]
          },
          "metadata": {},
          "execution_count": 14
        }
      ]
    },
    {
      "cell_type": "code",
      "source": [
        "# Converting the dt column to datetime object\n",
        "d['time'] = [datetime.datetime.strptime(x, '%Y-%m-%d') for x in d['time']]\n",
        "\n",
        "# Sorting by the date\n",
        "d.sort_values('time', inplace=True)"
      ],
      "metadata": {
        "id": "TNXuX3IFLMae"
      },
      "execution_count": null,
      "outputs": []
    },
    {
      "cell_type": "code",
      "source": [
        "# Listing the min and the max dates\n",
        "print(f\"First date {min(d['time'])}\")\n",
        "print(f\"Most recent date {max(d['time'])}\")"
      ],
      "metadata": {
        "id": "RACrW5dQYj09",
        "colab": {
          "base_uri": "https://localhost:8080/"
        },
        "outputId": "7c5dd045-1f31-44c6-9f9c-ab4b399ca84f"
      },
      "execution_count": null,
      "outputs": [
        {
          "output_type": "stream",
          "name": "stdout",
          "text": [
            "First date 2019-05-01 00:00:00\n",
            "Most recent date 2019-08-01 00:00:00\n"
          ]
        }
      ]
    },
    {
      "cell_type": "code",
      "source": [
        "print(f\"Total unique dates in the dataset: {len(set(d['time']))}\")"
      ],
      "metadata": {
        "id": "Cxo-kJ5Y8kQh",
        "colab": {
          "base_uri": "https://localhost:8080/"
        },
        "outputId": "f3fc0537-4990-4889-fdc6-2c0ce2771307"
      },
      "execution_count": null,
      "outputs": [
        {
          "output_type": "stream",
          "name": "stdout",
          "text": [
            "Total unique dates in the dataset: 4\n"
          ]
        }
      ]
    },
    {
      "cell_type": "code",
      "source": [
        "print(f\"Number of rows in the dataset: {d.shape[0]}\")"
      ],
      "metadata": {
        "id": "hCGSY4XJ8kUJ",
        "colab": {
          "base_uri": "https://localhost:8080/"
        },
        "outputId": "c790d635-2fb9-4dde-8e32-cf8313ab1049"
      },
      "execution_count": null,
      "outputs": [
        {
          "output_type": "stream",
          "name": "stdout",
          "text": [
            "Number of rows in the dataset: 832\n"
          ]
        }
      ]
    },
    {
      "cell_type": "code",
      "source": [
        "d"
      ],
      "metadata": {
        "id": "cjyUxMiS9GKK",
        "colab": {
          "base_uri": "https://localhost:8080/",
          "height": 424
        },
        "outputId": "3beccb44-f19e-4289-bdd2-cec818c90208"
      },
      "execution_count": null,
      "outputs": [
        {
          "output_type": "execute_result",
          "data": {
            "text/plain": [
              "          time  product_code  pack_size  carton_size  cartoon_price  \\\n",
              "0   2019-05-01           101         25           40           4200   \n",
              "744 2019-05-01          1103        250           10           2900   \n",
              "340 2019-05-01           802       2000            5           1450   \n",
              "336 2019-05-01           801       1000           10           1550   \n",
              "328 2019-05-01           801       1000           10           1550   \n",
              "..         ...           ...        ...          ...            ...   \n",
              "431 2019-08-01          1404        400           10           2900   \n",
              "427 2019-08-01          1403        100           30           2340   \n",
              "423 2019-08-01          1402         50           30           1380   \n",
              "411 2019-08-01           901        100           30           2400   \n",
              "831 2019-08-01           701        100           24           1560   \n",
              "\n",
              "     packet_price  cartoon_quantity  packet_quantity    value  region_code  \\\n",
              "0             105                10                0    33600        10000   \n",
              "744           290               179                0   415280        10000   \n",
              "340           290                89                0   103240        40000   \n",
              "336           155               271                8   337032        40000   \n",
              "328           155               831                0  1030440        20000   \n",
              "..            ...               ...              ...      ...          ...   \n",
              "431           290                15                0    34800        10000   \n",
              "427            78                40                0    74880        10000   \n",
              "423            46                13                0    14352        10000   \n",
              "411            80                 0                0        0        50000   \n",
              "831            65                88                0   109824        50000   \n",
              "\n",
              "       sale  \n",
              "0      8800  \n",
              "744  152348  \n",
              "340   20810  \n",
              "336   80258  \n",
              "328  250610  \n",
              "..      ...  \n",
              "431    4185  \n",
              "427   11806  \n",
              "423    1222  \n",
              "411       0  \n",
              "831   30948  \n",
              "\n",
              "[832 rows x 11 columns]"
            ],
            "text/html": [
              "\n",
              "  <div id=\"df-d64b7c0e-694e-4658-8732-3545a9cb5d1e\">\n",
              "    <div class=\"colab-df-container\">\n",
              "      <div>\n",
              "<style scoped>\n",
              "    .dataframe tbody tr th:only-of-type {\n",
              "        vertical-align: middle;\n",
              "    }\n",
              "\n",
              "    .dataframe tbody tr th {\n",
              "        vertical-align: top;\n",
              "    }\n",
              "\n",
              "    .dataframe thead th {\n",
              "        text-align: right;\n",
              "    }\n",
              "</style>\n",
              "<table border=\"1\" class=\"dataframe\">\n",
              "  <thead>\n",
              "    <tr style=\"text-align: right;\">\n",
              "      <th></th>\n",
              "      <th>time</th>\n",
              "      <th>product_code</th>\n",
              "      <th>pack_size</th>\n",
              "      <th>carton_size</th>\n",
              "      <th>cartoon_price</th>\n",
              "      <th>packet_price</th>\n",
              "      <th>cartoon_quantity</th>\n",
              "      <th>packet_quantity</th>\n",
              "      <th>value</th>\n",
              "      <th>region_code</th>\n",
              "      <th>sale</th>\n",
              "    </tr>\n",
              "  </thead>\n",
              "  <tbody>\n",
              "    <tr>\n",
              "      <th>0</th>\n",
              "      <td>2019-05-01</td>\n",
              "      <td>101</td>\n",
              "      <td>25</td>\n",
              "      <td>40</td>\n",
              "      <td>4200</td>\n",
              "      <td>105</td>\n",
              "      <td>10</td>\n",
              "      <td>0</td>\n",
              "      <td>33600</td>\n",
              "      <td>10000</td>\n",
              "      <td>8800</td>\n",
              "    </tr>\n",
              "    <tr>\n",
              "      <th>744</th>\n",
              "      <td>2019-05-01</td>\n",
              "      <td>1103</td>\n",
              "      <td>250</td>\n",
              "      <td>10</td>\n",
              "      <td>2900</td>\n",
              "      <td>290</td>\n",
              "      <td>179</td>\n",
              "      <td>0</td>\n",
              "      <td>415280</td>\n",
              "      <td>10000</td>\n",
              "      <td>152348</td>\n",
              "    </tr>\n",
              "    <tr>\n",
              "      <th>340</th>\n",
              "      <td>2019-05-01</td>\n",
              "      <td>802</td>\n",
              "      <td>2000</td>\n",
              "      <td>5</td>\n",
              "      <td>1450</td>\n",
              "      <td>290</td>\n",
              "      <td>89</td>\n",
              "      <td>0</td>\n",
              "      <td>103240</td>\n",
              "      <td>40000</td>\n",
              "      <td>20810</td>\n",
              "    </tr>\n",
              "    <tr>\n",
              "      <th>336</th>\n",
              "      <td>2019-05-01</td>\n",
              "      <td>801</td>\n",
              "      <td>1000</td>\n",
              "      <td>10</td>\n",
              "      <td>1550</td>\n",
              "      <td>155</td>\n",
              "      <td>271</td>\n",
              "      <td>8</td>\n",
              "      <td>337032</td>\n",
              "      <td>40000</td>\n",
              "      <td>80258</td>\n",
              "    </tr>\n",
              "    <tr>\n",
              "      <th>328</th>\n",
              "      <td>2019-05-01</td>\n",
              "      <td>801</td>\n",
              "      <td>1000</td>\n",
              "      <td>10</td>\n",
              "      <td>1550</td>\n",
              "      <td>155</td>\n",
              "      <td>831</td>\n",
              "      <td>0</td>\n",
              "      <td>1030440</td>\n",
              "      <td>20000</td>\n",
              "      <td>250610</td>\n",
              "    </tr>\n",
              "    <tr>\n",
              "      <th>...</th>\n",
              "      <td>...</td>\n",
              "      <td>...</td>\n",
              "      <td>...</td>\n",
              "      <td>...</td>\n",
              "      <td>...</td>\n",
              "      <td>...</td>\n",
              "      <td>...</td>\n",
              "      <td>...</td>\n",
              "      <td>...</td>\n",
              "      <td>...</td>\n",
              "      <td>...</td>\n",
              "    </tr>\n",
              "    <tr>\n",
              "      <th>431</th>\n",
              "      <td>2019-08-01</td>\n",
              "      <td>1404</td>\n",
              "      <td>400</td>\n",
              "      <td>10</td>\n",
              "      <td>2900</td>\n",
              "      <td>290</td>\n",
              "      <td>15</td>\n",
              "      <td>0</td>\n",
              "      <td>34800</td>\n",
              "      <td>10000</td>\n",
              "      <td>4185</td>\n",
              "    </tr>\n",
              "    <tr>\n",
              "      <th>427</th>\n",
              "      <td>2019-08-01</td>\n",
              "      <td>1403</td>\n",
              "      <td>100</td>\n",
              "      <td>30</td>\n",
              "      <td>2340</td>\n",
              "      <td>78</td>\n",
              "      <td>40</td>\n",
              "      <td>0</td>\n",
              "      <td>74880</td>\n",
              "      <td>10000</td>\n",
              "      <td>11806</td>\n",
              "    </tr>\n",
              "    <tr>\n",
              "      <th>423</th>\n",
              "      <td>2019-08-01</td>\n",
              "      <td>1402</td>\n",
              "      <td>50</td>\n",
              "      <td>30</td>\n",
              "      <td>1380</td>\n",
              "      <td>46</td>\n",
              "      <td>13</td>\n",
              "      <td>0</td>\n",
              "      <td>14352</td>\n",
              "      <td>10000</td>\n",
              "      <td>1222</td>\n",
              "    </tr>\n",
              "    <tr>\n",
              "      <th>411</th>\n",
              "      <td>2019-08-01</td>\n",
              "      <td>901</td>\n",
              "      <td>100</td>\n",
              "      <td>30</td>\n",
              "      <td>2400</td>\n",
              "      <td>80</td>\n",
              "      <td>0</td>\n",
              "      <td>0</td>\n",
              "      <td>0</td>\n",
              "      <td>50000</td>\n",
              "      <td>0</td>\n",
              "    </tr>\n",
              "    <tr>\n",
              "      <th>831</th>\n",
              "      <td>2019-08-01</td>\n",
              "      <td>701</td>\n",
              "      <td>100</td>\n",
              "      <td>24</td>\n",
              "      <td>1560</td>\n",
              "      <td>65</td>\n",
              "      <td>88</td>\n",
              "      <td>0</td>\n",
              "      <td>109824</td>\n",
              "      <td>50000</td>\n",
              "      <td>30948</td>\n",
              "    </tr>\n",
              "  </tbody>\n",
              "</table>\n",
              "<p>832 rows × 11 columns</p>\n",
              "</div>\n",
              "      <button class=\"colab-df-convert\" onclick=\"convertToInteractive('df-d64b7c0e-694e-4658-8732-3545a9cb5d1e')\"\n",
              "              title=\"Convert this dataframe to an interactive table.\"\n",
              "              style=\"display:none;\">\n",
              "        \n",
              "  <svg xmlns=\"http://www.w3.org/2000/svg\" height=\"24px\"viewBox=\"0 0 24 24\"\n",
              "       width=\"24px\">\n",
              "    <path d=\"M0 0h24v24H0V0z\" fill=\"none\"/>\n",
              "    <path d=\"M18.56 5.44l.94 2.06.94-2.06 2.06-.94-2.06-.94-.94-2.06-.94 2.06-2.06.94zm-11 1L8.5 8.5l.94-2.06 2.06-.94-2.06-.94L8.5 2.5l-.94 2.06-2.06.94zm10 10l.94 2.06.94-2.06 2.06-.94-2.06-.94-.94-2.06-.94 2.06-2.06.94z\"/><path d=\"M17.41 7.96l-1.37-1.37c-.4-.4-.92-.59-1.43-.59-.52 0-1.04.2-1.43.59L10.3 9.45l-7.72 7.72c-.78.78-.78 2.05 0 2.83L4 21.41c.39.39.9.59 1.41.59.51 0 1.02-.2 1.41-.59l7.78-7.78 2.81-2.81c.8-.78.8-2.07 0-2.86zM5.41 20L4 18.59l7.72-7.72 1.47 1.35L5.41 20z\"/>\n",
              "  </svg>\n",
              "      </button>\n",
              "      \n",
              "  <style>\n",
              "    .colab-df-container {\n",
              "      display:flex;\n",
              "      flex-wrap:wrap;\n",
              "      gap: 12px;\n",
              "    }\n",
              "\n",
              "    .colab-df-convert {\n",
              "      background-color: #E8F0FE;\n",
              "      border: none;\n",
              "      border-radius: 50%;\n",
              "      cursor: pointer;\n",
              "      display: none;\n",
              "      fill: #1967D2;\n",
              "      height: 32px;\n",
              "      padding: 0 0 0 0;\n",
              "      width: 32px;\n",
              "    }\n",
              "\n",
              "    .colab-df-convert:hover {\n",
              "      background-color: #E2EBFA;\n",
              "      box-shadow: 0px 1px 2px rgba(60, 64, 67, 0.3), 0px 1px 3px 1px rgba(60, 64, 67, 0.15);\n",
              "      fill: #174EA6;\n",
              "    }\n",
              "\n",
              "    [theme=dark] .colab-df-convert {\n",
              "      background-color: #3B4455;\n",
              "      fill: #D2E3FC;\n",
              "    }\n",
              "\n",
              "    [theme=dark] .colab-df-convert:hover {\n",
              "      background-color: #434B5C;\n",
              "      box-shadow: 0px 1px 3px 1px rgba(0, 0, 0, 0.15);\n",
              "      filter: drop-shadow(0px 1px 2px rgba(0, 0, 0, 0.3));\n",
              "      fill: #FFFFFF;\n",
              "    }\n",
              "  </style>\n",
              "\n",
              "      <script>\n",
              "        const buttonEl =\n",
              "          document.querySelector('#df-d64b7c0e-694e-4658-8732-3545a9cb5d1e button.colab-df-convert');\n",
              "        buttonEl.style.display =\n",
              "          google.colab.kernel.accessAllowed ? 'block' : 'none';\n",
              "\n",
              "        async function convertToInteractive(key) {\n",
              "          const element = document.querySelector('#df-d64b7c0e-694e-4658-8732-3545a9cb5d1e');\n",
              "          const dataTable =\n",
              "            await google.colab.kernel.invokeFunction('convertToInteractive',\n",
              "                                                     [key], {});\n",
              "          if (!dataTable) return;\n",
              "\n",
              "          const docLinkHtml = 'Like what you see? Visit the ' +\n",
              "            '<a target=\"_blank\" href=https://colab.research.google.com/notebooks/data_table.ipynb>data table notebook</a>'\n",
              "            + ' to learn more about interactive tables.';\n",
              "          element.innerHTML = '';\n",
              "          dataTable['output_type'] = 'display_data';\n",
              "          await google.colab.output.renderOutput(dataTable, element);\n",
              "          const docLink = document.createElement('div');\n",
              "          docLink.innerHTML = docLinkHtml;\n",
              "          element.appendChild(docLink);\n",
              "        }\n",
              "      </script>\n",
              "    </div>\n",
              "  </div>\n",
              "  "
            ]
          },
          "metadata": {},
          "execution_count": 19
        }
      ]
    },
    {
      "cell_type": "code",
      "source": [
        "# Features used in models\n",
        "features = ['product_code', 'pack_size', 'carton_size' ,'cartoon_price' , 'packet_price', 'cartoon_quantity', 'value','region_code','sale']\n",
        "\n",
        "# Aggregating to hourly level\n",
        "d = d.groupby('time', as_index=False)[features].mean()\n",
        "\n",
        "# Creating the data column\n",
        "d['time'] = [x.date() for x in d['time']]"
      ],
      "metadata": {
        "id": "Dar-Fq0P8kYj"
      },
      "execution_count": null,
      "outputs": []
    },
    {
      "cell_type": "code",
      "source": [
        "d[features].describe()"
      ],
      "metadata": {
        "id": "wVoQ1FSx8kbv",
        "colab": {
          "base_uri": "https://localhost:8080/",
          "height": 300
        },
        "outputId": "32195b17-d313-4696-8aa9-7d7fbad63e33"
      },
      "execution_count": null,
      "outputs": [
        {
          "output_type": "execute_result",
          "data": {
            "text/plain": [
              "       product_code   pack_size  carton_size  cartoon_price  packet_price  \\\n",
              "count      4.000000    4.000000     4.000000       4.000000      4.000000   \n",
              "mean     854.461538  441.288462    29.865385    6346.538462    448.269231   \n",
              "std        0.000000    0.000000     0.000000       0.000000      0.000000   \n",
              "min      854.461538  441.288462    29.865385    6346.538462    448.269231   \n",
              "25%      854.461538  441.288462    29.865385    6346.538462    448.269231   \n",
              "50%      854.461538  441.288462    29.865385    6346.538462    448.269231   \n",
              "75%      854.461538  441.288462    29.865385    6346.538462    448.269231   \n",
              "max      854.461538  441.288462    29.865385    6346.538462    448.269231   \n",
              "\n",
              "       cartoon_quantity          value   region_code           sale  \n",
              "count          4.000000       4.000000      4.000000       4.000000  \n",
              "mean         108.451923  485008.230769  29951.923077  121252.057692  \n",
              "std            0.000000       0.000000      0.000000    6537.037206  \n",
              "min          108.451923  485008.230769  29951.923077  111784.346154  \n",
              "25%          108.451923  485008.230769  29951.923077  120127.641827  \n",
              "50%          108.451923  485008.230769  29951.923077  123218.423077  \n",
              "75%          108.451923  485008.230769  29951.923077  124342.838942  \n",
              "max          108.451923  485008.230769  29951.923077  126787.038462  "
            ],
            "text/html": [
              "\n",
              "  <div id=\"df-c03f6f75-45da-424e-9c1d-3e3934aa7fe5\">\n",
              "    <div class=\"colab-df-container\">\n",
              "      <div>\n",
              "<style scoped>\n",
              "    .dataframe tbody tr th:only-of-type {\n",
              "        vertical-align: middle;\n",
              "    }\n",
              "\n",
              "    .dataframe tbody tr th {\n",
              "        vertical-align: top;\n",
              "    }\n",
              "\n",
              "    .dataframe thead th {\n",
              "        text-align: right;\n",
              "    }\n",
              "</style>\n",
              "<table border=\"1\" class=\"dataframe\">\n",
              "  <thead>\n",
              "    <tr style=\"text-align: right;\">\n",
              "      <th></th>\n",
              "      <th>product_code</th>\n",
              "      <th>pack_size</th>\n",
              "      <th>carton_size</th>\n",
              "      <th>cartoon_price</th>\n",
              "      <th>packet_price</th>\n",
              "      <th>cartoon_quantity</th>\n",
              "      <th>value</th>\n",
              "      <th>region_code</th>\n",
              "      <th>sale</th>\n",
              "    </tr>\n",
              "  </thead>\n",
              "  <tbody>\n",
              "    <tr>\n",
              "      <th>count</th>\n",
              "      <td>4.000000</td>\n",
              "      <td>4.000000</td>\n",
              "      <td>4.000000</td>\n",
              "      <td>4.000000</td>\n",
              "      <td>4.000000</td>\n",
              "      <td>4.000000</td>\n",
              "      <td>4.000000</td>\n",
              "      <td>4.000000</td>\n",
              "      <td>4.000000</td>\n",
              "    </tr>\n",
              "    <tr>\n",
              "      <th>mean</th>\n",
              "      <td>854.461538</td>\n",
              "      <td>441.288462</td>\n",
              "      <td>29.865385</td>\n",
              "      <td>6346.538462</td>\n",
              "      <td>448.269231</td>\n",
              "      <td>108.451923</td>\n",
              "      <td>485008.230769</td>\n",
              "      <td>29951.923077</td>\n",
              "      <td>121252.057692</td>\n",
              "    </tr>\n",
              "    <tr>\n",
              "      <th>std</th>\n",
              "      <td>0.000000</td>\n",
              "      <td>0.000000</td>\n",
              "      <td>0.000000</td>\n",
              "      <td>0.000000</td>\n",
              "      <td>0.000000</td>\n",
              "      <td>0.000000</td>\n",
              "      <td>0.000000</td>\n",
              "      <td>0.000000</td>\n",
              "      <td>6537.037206</td>\n",
              "    </tr>\n",
              "    <tr>\n",
              "      <th>min</th>\n",
              "      <td>854.461538</td>\n",
              "      <td>441.288462</td>\n",
              "      <td>29.865385</td>\n",
              "      <td>6346.538462</td>\n",
              "      <td>448.269231</td>\n",
              "      <td>108.451923</td>\n",
              "      <td>485008.230769</td>\n",
              "      <td>29951.923077</td>\n",
              "      <td>111784.346154</td>\n",
              "    </tr>\n",
              "    <tr>\n",
              "      <th>25%</th>\n",
              "      <td>854.461538</td>\n",
              "      <td>441.288462</td>\n",
              "      <td>29.865385</td>\n",
              "      <td>6346.538462</td>\n",
              "      <td>448.269231</td>\n",
              "      <td>108.451923</td>\n",
              "      <td>485008.230769</td>\n",
              "      <td>29951.923077</td>\n",
              "      <td>120127.641827</td>\n",
              "    </tr>\n",
              "    <tr>\n",
              "      <th>50%</th>\n",
              "      <td>854.461538</td>\n",
              "      <td>441.288462</td>\n",
              "      <td>29.865385</td>\n",
              "      <td>6346.538462</td>\n",
              "      <td>448.269231</td>\n",
              "      <td>108.451923</td>\n",
              "      <td>485008.230769</td>\n",
              "      <td>29951.923077</td>\n",
              "      <td>123218.423077</td>\n",
              "    </tr>\n",
              "    <tr>\n",
              "      <th>75%</th>\n",
              "      <td>854.461538</td>\n",
              "      <td>441.288462</td>\n",
              "      <td>29.865385</td>\n",
              "      <td>6346.538462</td>\n",
              "      <td>448.269231</td>\n",
              "      <td>108.451923</td>\n",
              "      <td>485008.230769</td>\n",
              "      <td>29951.923077</td>\n",
              "      <td>124342.838942</td>\n",
              "    </tr>\n",
              "    <tr>\n",
              "      <th>max</th>\n",
              "      <td>854.461538</td>\n",
              "      <td>441.288462</td>\n",
              "      <td>29.865385</td>\n",
              "      <td>6346.538462</td>\n",
              "      <td>448.269231</td>\n",
              "      <td>108.451923</td>\n",
              "      <td>485008.230769</td>\n",
              "      <td>29951.923077</td>\n",
              "      <td>126787.038462</td>\n",
              "    </tr>\n",
              "  </tbody>\n",
              "</table>\n",
              "</div>\n",
              "      <button class=\"colab-df-convert\" onclick=\"convertToInteractive('df-c03f6f75-45da-424e-9c1d-3e3934aa7fe5')\"\n",
              "              title=\"Convert this dataframe to an interactive table.\"\n",
              "              style=\"display:none;\">\n",
              "        \n",
              "  <svg xmlns=\"http://www.w3.org/2000/svg\" height=\"24px\"viewBox=\"0 0 24 24\"\n",
              "       width=\"24px\">\n",
              "    <path d=\"M0 0h24v24H0V0z\" fill=\"none\"/>\n",
              "    <path d=\"M18.56 5.44l.94 2.06.94-2.06 2.06-.94-2.06-.94-.94-2.06-.94 2.06-2.06.94zm-11 1L8.5 8.5l.94-2.06 2.06-.94-2.06-.94L8.5 2.5l-.94 2.06-2.06.94zm10 10l.94 2.06.94-2.06 2.06-.94-2.06-.94-.94-2.06-.94 2.06-2.06.94z\"/><path d=\"M17.41 7.96l-1.37-1.37c-.4-.4-.92-.59-1.43-.59-.52 0-1.04.2-1.43.59L10.3 9.45l-7.72 7.72c-.78.78-.78 2.05 0 2.83L4 21.41c.39.39.9.59 1.41.59.51 0 1.02-.2 1.41-.59l7.78-7.78 2.81-2.81c.8-.78.8-2.07 0-2.86zM5.41 20L4 18.59l7.72-7.72 1.47 1.35L5.41 20z\"/>\n",
              "  </svg>\n",
              "      </button>\n",
              "      \n",
              "  <style>\n",
              "    .colab-df-container {\n",
              "      display:flex;\n",
              "      flex-wrap:wrap;\n",
              "      gap: 12px;\n",
              "    }\n",
              "\n",
              "    .colab-df-convert {\n",
              "      background-color: #E8F0FE;\n",
              "      border: none;\n",
              "      border-radius: 50%;\n",
              "      cursor: pointer;\n",
              "      display: none;\n",
              "      fill: #1967D2;\n",
              "      height: 32px;\n",
              "      padding: 0 0 0 0;\n",
              "      width: 32px;\n",
              "    }\n",
              "\n",
              "    .colab-df-convert:hover {\n",
              "      background-color: #E2EBFA;\n",
              "      box-shadow: 0px 1px 2px rgba(60, 64, 67, 0.3), 0px 1px 3px 1px rgba(60, 64, 67, 0.15);\n",
              "      fill: #174EA6;\n",
              "    }\n",
              "\n",
              "    [theme=dark] .colab-df-convert {\n",
              "      background-color: #3B4455;\n",
              "      fill: #D2E3FC;\n",
              "    }\n",
              "\n",
              "    [theme=dark] .colab-df-convert:hover {\n",
              "      background-color: #434B5C;\n",
              "      box-shadow: 0px 1px 3px 1px rgba(0, 0, 0, 0.15);\n",
              "      filter: drop-shadow(0px 1px 2px rgba(0, 0, 0, 0.3));\n",
              "      fill: #FFFFFF;\n",
              "    }\n",
              "  </style>\n",
              "\n",
              "      <script>\n",
              "        const buttonEl =\n",
              "          document.querySelector('#df-c03f6f75-45da-424e-9c1d-3e3934aa7fe5 button.colab-df-convert');\n",
              "        buttonEl.style.display =\n",
              "          google.colab.kernel.accessAllowed ? 'block' : 'none';\n",
              "\n",
              "        async function convertToInteractive(key) {\n",
              "          const element = document.querySelector('#df-c03f6f75-45da-424e-9c1d-3e3934aa7fe5');\n",
              "          const dataTable =\n",
              "            await google.colab.kernel.invokeFunction('convertToInteractive',\n",
              "                                                     [key], {});\n",
              "          if (!dataTable) return;\n",
              "\n",
              "          const docLinkHtml = 'Like what you see? Visit the ' +\n",
              "            '<a target=\"_blank\" href=https://colab.research.google.com/notebooks/data_table.ipynb>data table notebook</a>'\n",
              "            + ' to learn more about interactive tables.';\n",
              "          element.innerHTML = '';\n",
              "          dataTable['output_type'] = 'display_data';\n",
              "          await google.colab.output.renderOutput(dataTable, element);\n",
              "          const docLink = document.createElement('div');\n",
              "          docLink.innerHTML = docLinkHtml;\n",
              "          element.appendChild(docLink);\n",
              "        }\n",
              "      </script>\n",
              "    </div>\n",
              "  </div>\n",
              "  "
            ]
          },
          "metadata": {},
          "execution_count": 21
        }
      ]
    },
    {
      "cell_type": "code",
      "source": [
        "plt.figure(figsize=(12, 8))\n",
        "plt.plot('time', 'sale', data=d)\n",
        "plt.title('monthly sales graph')\n",
        "plt.ylabel('amount')\n",
        "plt.xlabel('Date')\n",
        "plt.show()"
      ],
      "metadata": {
        "id": "64Z1CsGk8ke_",
        "colab": {
          "base_uri": "https://localhost:8080/",
          "height": 513
        },
        "outputId": "6680dbc2-2964-4f58-b22f-dc2962d544af"
      },
      "execution_count": null,
      "outputs": [
        {
          "output_type": "display_data",
          "data": {
            "text/plain": [
              "<Figure size 864x576 with 1 Axes>"
            ],
            "image/png": "[encoded data removed]"
          },
          "metadata": {
            "needs_background": "light"
          }
        }
      ]
    },
    {
      "cell_type": "code",
      "source": [
        "plt.figure(figsize=(8, 8))\n",
        "plt.hist2d(d['sale'], d['region_code'], bins=(50, 50))\n",
        "plt.colorbar()\n",
        "ax = plt.gca()\n",
        "plt.xlabel('sale')\n",
        "plt.ylabel('area')\n",
        "ax.axis('tight')\n",
        "plt.show()"
      ],
      "metadata": {
        "id": "i0NeHYqr8kh9",
        "colab": {
          "base_uri": "https://localhost:8080/",
          "height": 508
        },
        "outputId": "f2b0fa76-9817-4c31-947f-2217a78f2ed9"
      },
      "execution_count": null,
      "outputs": [
        {
          "output_type": "display_data",
          "data": {
            "text/plain": [
              "<Figure size 576x576 with 2 Axes>"
            ],
            "image/png": "[encoded data removed]"
          },
          "metadata": {
            "needs_background": "light"
          }
        }
      ]
    },
    {
      "cell_type": "code",
      "source": [
        "plot_features = d[features]\n",
        "plot_features.index = d.time\n",
        "\n",
        "fig, axes = plt.subplots(\n",
        "    nrows=2,\n",
        "    ncols=1,\n",
        "    figsize=(15, 10),\n",
        "    facecolor=\"w\",\n",
        "    edgecolor=\"k\"\n",
        ")\n",
        "\n",
        "for i, feature in enumerate(['region_code', 'sale']):\n",
        "    axes[i % 2].plot(plot_features[feature])\n",
        "    axes[i % 2].set_title(f'{feature} monthly')\n",
        "\n",
        "plt.tight_layout()\n",
        "\n",
        "plt.show()"
      ],
      "metadata": {
        "id": "SirMg6118kk3",
        "colab": {
          "base_uri": "https://localhost:8080/",
          "height": 729
        },
        "outputId": "ec71533f-8d00-4f9b-f33f-539ffd0f38a5"
      },
      "execution_count": null,
      "outputs": [
        {
          "output_type": "display_data",
          "data": {
            "text/plain": [
              "<Figure size 1080x720 with 2 Axes>"
            ],
            "image/png": "[encoded data removed]"
          },
          "metadata": {}
        }
      ]
    },
    {
      "cell_type": "code",
      "source": [
        "#plot_features = d.groupby('time')[features].mean()\n",
        "\n",
        "#fig, axes = plt.subplots(\n",
        "#    nrows=2,\n",
        "#    ncols=2,\n",
        "#    figsize=(15, 10),\n",
        "#    facecolor=\"w\",\n",
        " #   edgecolor=\"k\"\n",
        "#)\n",
        "\n",
        "#for i, feature in enumerate(features):\n",
        "#    axes[i // 2, i % 2].plot(plot_features[feature])\n",
        "#    axes[i // 2, i % 2].set_title(f'{feature} ')\n",
        "\n",
        "#plt.tight_layout()\n",
        "#plt.show()"
      ],
      "metadata": {
        "id": "--UOAUepAqIm"
      },
      "execution_count": null,
      "outputs": []
    },
    {
      "cell_type": "code",
      "source": [],
      "metadata": {
        "id": "HCcPp_dmuP0F"
      },
      "execution_count": null,
      "outputs": []
    },
    {
      "cell_type": "markdown",
      "source": [
        "Feature engineering\n"
      ],
      "metadata": {
        "id": "uesE9yBMC9TY"
      }
    },
    {
      "cell_type": "code",
      "source": [
        "# Extracting the hour of day\n",
        "#d['hour'] = [x.hour for x in d['time']]\n",
        "\n",
        "# Extracting the month of the year\n",
        "d['month'] = [x.month for x in d['time']]"
      ],
      "metadata": {
        "id": "8ebLV7HSuP2j"
      },
      "execution_count": null,
      "outputs": []
    },
    {
      "cell_type": "code",
      "source": [
        "#d.boxplot('temp', by='hour', figsize=(12, 8), grid=False)\n",
        "#d.boxplot('temp', by='month', figsize=(12, 8), grid=False)"
      ],
      "metadata": {
        "id": "FnuxjNrGAqLl"
      },
      "execution_count": null,
      "outputs": []
    },
    {
      "cell_type": "code",
      "source": [
        "# Creating the cyclical daily feature\n",
        "d['day_cos'] = [np.cos(x * (2 * np.pi / 24)) for x in d['month']]\n",
        "d['day_sin'] = [np.sin(x * (2 * np.pi / 24)) for x in d['month']]"
      ],
      "metadata": {
        "id": "hJY-bM7OAqOV"
      },
      "execution_count": null,
      "outputs": []
    },
    {
      "cell_type": "code",
      "source": [
        "dsin = d[['time', 'sale', 'month', 'day_sin', 'day_cos']].head(25).copy()\n",
        "dsin['day_sin'] = [round(x, 3) for x in dsin['day_sin']]\n",
        "dsin['day_cos'] = [round(x, 3) for x in dsin['day_cos']]\n",
        "\n",
        "dsin"
      ],
      "metadata": {
        "id": "mj0Ptt3GAqRF",
        "colab": {
          "base_uri": "https://localhost:8080/",
          "height": 175
        },
        "outputId": "dbed422d-3820-4409-ad2d-9db0945f56b2"
      },
      "execution_count": null,
      "outputs": [
        {
          "output_type": "execute_result",
          "data": {
            "text/plain": [
              "         time           sale  month  day_sin  day_cos\n",
              "0  2019-05-01  126787.038462      5    0.966    0.259\n",
              "1  2019-06-01  123528.105769      6    1.000    0.000\n",
              "2  2019-07-01  111784.346154      7    0.966   -0.259\n",
              "3  2019-08-01  122908.740385      8    0.866   -0.500"
            ],
            "text/html": [
              "\n",
              "  <div id=\"df-3a8ed359-a9b8-4468-bd5c-9e6295bf36d7\">\n",
              "    <div class=\"colab-df-container\">\n",
              "      <div>\n",
              "<style scoped>\n",
              "    .dataframe tbody tr th:only-of-type {\n",
              "        vertical-align: middle;\n",
              "    }\n",
              "\n",
              "    .dataframe tbody tr th {\n",
              "        vertical-align: top;\n",
              "    }\n",
              "\n",
              "    .dataframe thead th {\n",
              "        text-align: right;\n",
              "    }\n",
              "</style>\n",
              "<table border=\"1\" class=\"dataframe\">\n",
              "  <thead>\n",
              "    <tr style=\"text-align: right;\">\n",
              "      <th></th>\n",
              "      <th>time</th>\n",
              "      <th>sale</th>\n",
              "      <th>month</th>\n",
              "      <th>day_sin</th>\n",
              "      <th>day_cos</th>\n",
              "    </tr>\n",
              "  </thead>\n",
              "  <tbody>\n",
              "    <tr>\n",
              "      <th>0</th>\n",
              "      <td>2019-05-01</td>\n",
              "      <td>126787.038462</td>\n",
              "      <td>5</td>\n",
              "      <td>0.966</td>\n",
              "      <td>0.259</td>\n",
              "    </tr>\n",
              "    <tr>\n",
              "      <th>1</th>\n",
              "      <td>2019-06-01</td>\n",
              "      <td>123528.105769</td>\n",
              "      <td>6</td>\n",
              "      <td>1.000</td>\n",
              "      <td>0.000</td>\n",
              "    </tr>\n",
              "    <tr>\n",
              "      <th>2</th>\n",
              "      <td>2019-07-01</td>\n",
              "      <td>111784.346154</td>\n",
              "      <td>7</td>\n",
              "      <td>0.966</td>\n",
              "      <td>-0.259</td>\n",
              "    </tr>\n",
              "    <tr>\n",
              "      <th>3</th>\n",
              "      <td>2019-08-01</td>\n",
              "      <td>122908.740385</td>\n",
              "      <td>8</td>\n",
              "      <td>0.866</td>\n",
              "      <td>-0.500</td>\n",
              "    </tr>\n",
              "  </tbody>\n",
              "</table>\n",
              "</div>\n",
              "      <button class=\"colab-df-convert\" onclick=\"convertToInteractive('df-3a8ed359-a9b8-4468-bd5c-9e6295bf36d7')\"\n",
              "              title=\"Convert this dataframe to an interactive table.\"\n",
              "              style=\"display:none;\">\n",
              "        \n",
              "  <svg xmlns=\"http://www.w3.org/2000/svg\" height=\"24px\"viewBox=\"0 0 24 24\"\n",
              "       width=\"24px\">\n",
              "    <path d=\"M0 0h24v24H0V0z\" fill=\"none\"/>\n",
              "    <path d=\"M18.56 5.44l.94 2.06.94-2.06 2.06-.94-2.06-.94-.94-2.06-.94 2.06-2.06.94zm-11 1L8.5 8.5l.94-2.06 2.06-.94-2.06-.94L8.5 2.5l-.94 2.06-2.06.94zm10 10l.94 2.06.94-2.06 2.06-.94-2.06-.94-.94-2.06-.94 2.06-2.06.94z\"/><path d=\"M17.41 7.96l-1.37-1.37c-.4-.4-.92-.59-1.43-.59-.52 0-1.04.2-1.43.59L10.3 9.45l-7.72 7.72c-.78.78-.78 2.05 0 2.83L4 21.41c.39.39.9.59 1.41.59.51 0 1.02-.2 1.41-.59l7.78-7.78 2.81-2.81c.8-.78.8-2.07 0-2.86zM5.41 20L4 18.59l7.72-7.72 1.47 1.35L5.41 20z\"/>\n",
              "  </svg>\n",
              "      </button>\n",
              "      \n",
              "  <style>\n",
              "    .colab-df-container {\n",
              "      display:flex;\n",
              "      flex-wrap:wrap;\n",
              "      gap: 12px;\n",
              "    }\n",
              "\n",
              "    .colab-df-convert {\n",
              "      background-color: #E8F0FE;\n",
              "      border: none;\n",
              "      border-radius: 50%;\n",
              "      cursor: pointer;\n",
              "      display: none;\n",
              "      fill: #1967D2;\n",
              "      height: 32px;\n",
              "      padding: 0 0 0 0;\n",
              "      width: 32px;\n",
              "    }\n",
              "\n",
              "    .colab-df-convert:hover {\n",
              "      background-color: #E2EBFA;\n",
              "      box-shadow: 0px 1px 2px rgba(60, 64, 67, 0.3), 0px 1px 3px 1px rgba(60, 64, 67, 0.15);\n",
              "      fill: #174EA6;\n",
              "    }\n",
              "\n",
              "    [theme=dark] .colab-df-convert {\n",
              "      background-color: #3B4455;\n",
              "      fill: #D2E3FC;\n",
              "    }\n",
              "\n",
              "    [theme=dark] .colab-df-convert:hover {\n",
              "      background-color: #434B5C;\n",
              "      box-shadow: 0px 1px 3px 1px rgba(0, 0, 0, 0.15);\n",
              "      filter: drop-shadow(0px 1px 2px rgba(0, 0, 0, 0.3));\n",
              "      fill: #FFFFFF;\n",
              "    }\n",
              "  </style>\n",
              "\n",
              "      <script>\n",
              "        const buttonEl =\n",
              "          document.querySelector('#df-3a8ed359-a9b8-4468-bd5c-9e6295bf36d7 button.colab-df-convert');\n",
              "        buttonEl.style.display =\n",
              "          google.colab.kernel.accessAllowed ? 'block' : 'none';\n",
              "\n",
              "        async function convertToInteractive(key) {\n",
              "          const element = document.querySelector('#df-3a8ed359-a9b8-4468-bd5c-9e6295bf36d7');\n",
              "          const dataTable =\n",
              "            await google.colab.kernel.invokeFunction('convertToInteractive',\n",
              "                                                     [key], {});\n",
              "          if (!dataTable) return;\n",
              "\n",
              "          const docLinkHtml = 'Like what you see? Visit the ' +\n",
              "            '<a target=\"_blank\" href=https://colab.research.google.com/notebooks/data_table.ipynb>data table notebook</a>'\n",
              "            + ' to learn more about interactive tables.';\n",
              "          element.innerHTML = '';\n",
              "          dataTable['output_type'] = 'display_data';\n",
              "          await google.colab.output.renderOutput(dataTable, element);\n",
              "          const docLink = document.createElement('div');\n",
              "          docLink.innerHTML = docLinkHtml;\n",
              "          element.appendChild(docLink);\n",
              "        }\n",
              "      </script>\n",
              "    </div>\n",
              "  </div>\n",
              "  "
            ]
          },
          "metadata": {},
          "execution_count": 91
        }
      ]
    },
    {
      "cell_type": "code",
      "source": [
        "dsin = d[['product_code', 'pack_size', 'carton_size' ,'cartoon_price' , 'packet_price', 'cartoon_quantity', 'value','region_code','sale', 'day_sin', 'day_cos']].head(25).copy()\n",
        "dsin['day_sin'] = [round(x, 3) for x in dsin['day_sin']]\n",
        "dsin['day_cos'] = [round(x, 3) for x in dsin['day_cos']]\n",
        "\n",
        "dsin"
      ],
      "metadata": {
        "id": "8ZIZa29xFrAC",
        "colab": {
          "base_uri": "https://localhost:8080/",
          "height": 175
        },
        "outputId": "1451384a-f564-4453-bae6-f1da4f1cd29b"
      },
      "execution_count": null,
      "outputs": [
        {
          "output_type": "execute_result",
          "data": {
            "text/plain": [
              "   product_code   pack_size  carton_size  cartoon_price  packet_price  \\\n",
              "0    854.461538  441.288462    29.865385    6346.538462    448.269231   \n",
              "1    854.461538  441.288462    29.865385    6346.538462    448.269231   \n",
              "2    854.461538  441.288462    29.865385    6346.538462    448.269231   \n",
              "3    854.461538  441.288462    29.865385    6346.538462    448.269231   \n",
              "\n",
              "   cartoon_quantity          value   region_code           sale  day_sin  \\\n",
              "0        108.451923  485008.230769  29951.923077  126787.038462    0.966   \n",
              "1        108.451923  485008.230769  29951.923077  123528.105769    1.000   \n",
              "2        108.451923  485008.230769  29951.923077  111784.346154    0.966   \n",
              "3        108.451923  485008.230769  29951.923077  122908.740385    0.866   \n",
              "\n",
              "   day_cos  \n",
              "0    0.259  \n",
              "1    0.000  \n",
              "2   -0.259  \n",
              "3   -0.500  "
            ],
            "text/html": [
              "\n",
              "  <div id=\"df-86becc72-eb87-4c4a-82c3-a7028498eb80\">\n",
              "    <div class=\"colab-df-container\">\n",
              "      <div>\n",
              "<style scoped>\n",
              "    .dataframe tbody tr th:only-of-type {\n",
              "        vertical-align: middle;\n",
              "    }\n",
              "\n",
              "    .dataframe tbody tr th {\n",
              "        vertical-align: top;\n",
              "    }\n",
              "\n",
              "    .dataframe thead th {\n",
              "        text-align: right;\n",
              "    }\n",
              "</style>\n",
              "<table border=\"1\" class=\"dataframe\">\n",
              "  <thead>\n",
              "    <tr style=\"text-align: right;\">\n",
              "      <th></th>\n",
              "      <th>product_code</th>\n",
              "      <th>pack_size</th>\n",
              "      <th>carton_size</th>\n",
              "      <th>cartoon_price</th>\n",
              "      <th>packet_price</th>\n",
              "      <th>cartoon_quantity</th>\n",
              "      <th>value</th>\n",
              "      <th>region_code</th>\n",
              "      <th>sale</th>\n",
              "      <th>day_sin</th>\n",
              "      <th>day_cos</th>\n",
              "    </tr>\n",
              "  </thead>\n",
              "  <tbody>\n",
              "    <tr>\n",
              "      <th>0</th>\n",
              "      <td>854.461538</td>\n",
              "      <td>441.288462</td>\n",
              "      <td>29.865385</td>\n",
              "      <td>6346.538462</td>\n",
              "      <td>448.269231</td>\n",
              "      <td>108.451923</td>\n",
              "      <td>485008.230769</td>\n",
              "      <td>29951.923077</td>\n",
              "      <td>126787.038462</td>\n",
              "      <td>0.966</td>\n",
              "      <td>0.259</td>\n",
              "    </tr>\n",
              "    <tr>\n",
              "      <th>1</th>\n",
              "      <td>854.461538</td>\n",
              "      <td>441.288462</td>\n",
              "      <td>29.865385</td>\n",
              "      <td>6346.538462</td>\n",
              "      <td>448.269231</td>\n",
              "      <td>108.451923</td>\n",
              "      <td>485008.230769</td>\n",
              "      <td>29951.923077</td>\n",
              "      <td>123528.105769</td>\n",
              "      <td>1.000</td>\n",
              "      <td>0.000</td>\n",
              "    </tr>\n",
              "    <tr>\n",
              "      <th>2</th>\n",
              "      <td>854.461538</td>\n",
              "      <td>441.288462</td>\n",
              "      <td>29.865385</td>\n",
              "      <td>6346.538462</td>\n",
              "      <td>448.269231</td>\n",
              "      <td>108.451923</td>\n",
              "      <td>485008.230769</td>\n",
              "      <td>29951.923077</td>\n",
              "      <td>111784.346154</td>\n",
              "      <td>0.966</td>\n",
              "      <td>-0.259</td>\n",
              "    </tr>\n",
              "    <tr>\n",
              "      <th>3</th>\n",
              "      <td>854.461538</td>\n",
              "      <td>441.288462</td>\n",
              "      <td>29.865385</td>\n",
              "      <td>6346.538462</td>\n",
              "      <td>448.269231</td>\n",
              "      <td>108.451923</td>\n",
              "      <td>485008.230769</td>\n",
              "      <td>29951.923077</td>\n",
              "      <td>122908.740385</td>\n",
              "      <td>0.866</td>\n",
              "      <td>-0.500</td>\n",
              "    </tr>\n",
              "  </tbody>\n",
              "</table>\n",
              "</div>\n",
              "      <button class=\"colab-df-convert\" onclick=\"convertToInteractive('df-86becc72-eb87-4c4a-82c3-a7028498eb80')\"\n",
              "              title=\"Convert this dataframe to an interactive table.\"\n",
              "              style=\"display:none;\">\n",
              "        \n",
              "  <svg xmlns=\"http://www.w3.org/2000/svg\" height=\"24px\"viewBox=\"0 0 24 24\"\n",
              "       width=\"24px\">\n",
              "    <path d=\"M0 0h24v24H0V0z\" fill=\"none\"/>\n",
              "    <path d=\"M18.56 5.44l.94 2.06.94-2.06 2.06-.94-2.06-.94-.94-2.06-.94 2.06-2.06.94zm-11 1L8.5 8.5l.94-2.06 2.06-.94-2.06-.94L8.5 2.5l-.94 2.06-2.06.94zm10 10l.94 2.06.94-2.06 2.06-.94-2.06-.94-.94-2.06-.94 2.06-2.06.94z\"/><path d=\"M17.41 7.96l-1.37-1.37c-.4-.4-.92-.59-1.43-.59-.52 0-1.04.2-1.43.59L10.3 9.45l-7.72 7.72c-.78.78-.78 2.05 0 2.83L4 21.41c.39.39.9.59 1.41.59.51 0 1.02-.2 1.41-.59l7.78-7.78 2.81-2.81c.8-.78.8-2.07 0-2.86zM5.41 20L4 18.59l7.72-7.72 1.47 1.35L5.41 20z\"/>\n",
              "  </svg>\n",
              "      </button>\n",
              "      \n",
              "  <style>\n",
              "    .colab-df-container {\n",
              "      display:flex;\n",
              "      flex-wrap:wrap;\n",
              "      gap: 12px;\n",
              "    }\n",
              "\n",
              "    .colab-df-convert {\n",
              "      background-color: #E8F0FE;\n",
              "      border: none;\n",
              "      border-radius: 50%;\n",
              "      cursor: pointer;\n",
              "      display: none;\n",
              "      fill: #1967D2;\n",
              "      height: 32px;\n",
              "      padding: 0 0 0 0;\n",
              "      width: 32px;\n",
              "    }\n",
              "\n",
              "    .colab-df-convert:hover {\n",
              "      background-color: #E2EBFA;\n",
              "      box-shadow: 0px 1px 2px rgba(60, 64, 67, 0.3), 0px 1px 3px 1px rgba(60, 64, 67, 0.15);\n",
              "      fill: #174EA6;\n",
              "    }\n",
              "\n",
              "    [theme=dark] .colab-df-convert {\n",
              "      background-color: #3B4455;\n",
              "      fill: #D2E3FC;\n",
              "    }\n",
              "\n",
              "    [theme=dark] .colab-df-convert:hover {\n",
              "      background-color: #434B5C;\n",
              "      box-shadow: 0px 1px 3px 1px rgba(0, 0, 0, 0.15);\n",
              "      filter: drop-shadow(0px 1px 2px rgba(0, 0, 0, 0.3));\n",
              "      fill: #FFFFFF;\n",
              "    }\n",
              "  </style>\n",
              "\n",
              "      <script>\n",
              "        const buttonEl =\n",
              "          document.querySelector('#df-86becc72-eb87-4c4a-82c3-a7028498eb80 button.colab-df-convert');\n",
              "        buttonEl.style.display =\n",
              "          google.colab.kernel.accessAllowed ? 'block' : 'none';\n",
              "\n",
              "        async function convertToInteractive(key) {\n",
              "          const element = document.querySelector('#df-86becc72-eb87-4c4a-82c3-a7028498eb80');\n",
              "          const dataTable =\n",
              "            await google.colab.kernel.invokeFunction('convertToInteractive',\n",
              "                                                     [key], {});\n",
              "          if (!dataTable) return;\n",
              "\n",
              "          const docLinkHtml = 'Like what you see? Visit the ' +\n",
              "            '<a target=\"_blank\" href=https://colab.research.google.com/notebooks/data_table.ipynb>data table notebook</a>'\n",
              "            + ' to learn more about interactive tables.';\n",
              "          element.innerHTML = '';\n",
              "          dataTable['output_type'] = 'display_data';\n",
              "          await google.colab.output.renderOutput(dataTable, element);\n",
              "          const docLink = document.createElement('div');\n",
              "          docLink.innerHTML = docLinkHtml;\n",
              "          element.appendChild(docLink);\n",
              "        }\n",
              "      </script>\n",
              "    </div>\n",
              "  </div>\n",
              "  "
            ]
          },
          "metadata": {},
          "execution_count": 92
        }
      ]
    },
    {
      "cell_type": "code",
      "source": [
        "# Ploting the first 25 hours\n",
        "plt.plot(np.array(d['day_cos'])[:25], label='cos')\n",
        "plt.plot(np.array(d['day_sin'])[:25], label='sin')\n",
        "plt.xlabel('Time [h]')\n",
        "plt.title('Time of day signal')\n",
        "plt.legend()\n",
        "plt.show()"
      ],
      "metadata": {
        "id": "bmY-M0OoDeMK",
        "colab": {
          "base_uri": "https://localhost:8080/",
          "height": 295
        },
        "outputId": "8a57382f-d7c5-49ef-9105-9a1153b5c0ee"
      },
      "execution_count": null,
      "outputs": [
        {
          "output_type": "display_data",
          "data": {
            "text/plain": [
              "<Figure size 432x288 with 1 Axes>"
            ],
            "image/png": "[encoded data removed]"
          },
          "metadata": {
            "needs_background": "light"
          }
        }
      ]
    },
    {
      "cell_type": "code",
      "source": [
        "#import time\n",
        "#time.mktime(datetime.datetime.strptime(s, \"%Y-%m-%d\").timetuple())"
      ],
      "metadata": {
        "id": "qYo8FbW1GkTw"
      },
      "execution_count": null,
      "outputs": []
    },
    {
      "cell_type": "code",
      "source": [
        "# Extracting the timestamp from the datetime object\n",
        "d['timestamp'] = [time.mktime(x.timetuple()) for x in d['time']]\n",
        "\n",
        "# Seconds in day\n",
        "s = 24 * 60 * 60\n",
        "\n",
        "# Seconds in year\n",
        "year = (365.25) * s\n",
        "\n",
        "d['month_cos'] = [np.cos((x) * (2 * np.pi / year)) for x in d['timestamp']]\n",
        "d['month_sin'] = [np.sin((x) * (2 * np.pi / year)) for x in d['timestamp']]"
      ],
      "metadata": {
        "id": "49YgIOCPDeO5"
      },
      "execution_count": null,
      "outputs": []
    },
    {
      "cell_type": "code",
      "source": [
        "# Ploting the first year\n",
        "plt.plot(np.array(d['month_cos'])[:24 * 365])\n",
        "plt.plot(np.array(d['month_sin'])[:24 * 365])\n",
        "plt.xlabel('Time [h]')\n",
        "plt.title('Time of year signal')\n",
        "plt.show()"
      ],
      "metadata": {
        "id": "MxOz9IoJDeRi",
        "colab": {
          "base_uri": "https://localhost:8080/",
          "height": 295
        },
        "outputId": "607900c2-7c43-42fe-8830-7441b010dd16"
      },
      "execution_count": null,
      "outputs": [
        {
          "output_type": "display_data",
          "data": {
            "text/plain": [
              "<Figure size 432x288 with 1 Axes>"
            ],
            "image/png": "[encoded data removed]"
          },
          "metadata": {
            "needs_background": "light"
          }
        }
      ]
    },
    {
      "cell_type": "markdown",
      "source": [
        "single step forecast"
      ],
      "metadata": {
        "id": "CMLaCjKqDp_v"
      }
    },
    {
      "cell_type": "code",
      "source": [
        "# Number of lags (hours back) to use for models\n",
        "lag = 1\n",
        "\n",
        "# Steps ahead to forecast\n",
        "n_ahead = 1\n",
        "\n",
        "# Share of obs in testing\n",
        "test_share = 0.1\n",
        "\n",
        "# Epochs for training\n",
        "epochs = 20\n",
        "\n",
        "# Batch size\n",
        "batch_size = 512\n",
        "\n",
        "# Learning rate\n",
        "lr = 0.001\n",
        "\n",
        "# Number of neurons in LSTM layer\n",
        "n_layer = 10\n",
        "\n",
        "# The features used in the modeling\n",
        "features_final = ['product_code', 'pack_size', 'carton_size' ,'cartoon_price' , 'packet_price', 'cartoon_quantity', 'value','region_code',  'month_sin', 'month_cos','sale' ]"
      ],
      "metadata": {
        "id": "c-nFS6wiDeUq"
      },
      "execution_count": null,
      "outputs": []
    },
    {
      "cell_type": "markdown",
      "source": [
        "Creating the matrices for training"
      ],
      "metadata": {
        "id": "rwC2TaRKDusf"
      }
    },
    {
      "cell_type": "code",
      "source": [
        "d[features_final].head(10)"
      ],
      "metadata": {
        "id": "XwxdfNlLDeZr",
        "colab": {
          "base_uri": "https://localhost:8080/",
          "height": 175
        },
        "outputId": "fcdffabd-2ffd-455a-81b9-bcc9e508199a"
      },
      "execution_count": null,
      "outputs": [
        {
          "output_type": "execute_result",
          "data": {
            "text/plain": [
              "   product_code   pack_size  carton_size  cartoon_price  packet_price  \\\n",
              "0    854.461538  441.288462    29.865385    6346.538462    448.269231   \n",
              "1    854.461538  441.288462    29.865385    6346.538462    448.269231   \n",
              "2    854.461538  441.288462    29.865385    6346.538462    448.269231   \n",
              "3    854.461538  441.288462    29.865385    6346.538462    448.269231   \n",
              "\n",
              "   cartoon_quantity          value   region_code  month_sin  month_cos  \\\n",
              "0        108.451923  485008.230769  29951.923077   0.882712  -0.469915   \n",
              "1        108.451923  485008.230769  29951.923077   0.521260  -0.853398   \n",
              "2        108.451923  485008.230769  29951.923077   0.032249  -0.999480   \n",
              "3        108.451923  485008.230769  29951.923077  -0.480321  -0.877093   \n",
              "\n",
              "            sale  \n",
              "0  126787.038462  \n",
              "1  123528.105769  \n",
              "2  111784.346154  \n",
              "3  122908.740385  "
            ],
            "text/html": [
              "\n",
              "  <div id=\"df-9a759c2b-54fa-48d3-ac01-54a026f7af7a\">\n",
              "    <div class=\"colab-df-container\">\n",
              "      <div>\n",
              "<style scoped>\n",
              "    .dataframe tbody tr th:only-of-type {\n",
              "        vertical-align: middle;\n",
              "    }\n",
              "\n",
              "    .dataframe tbody tr th {\n",
              "        vertical-align: top;\n",
              "    }\n",
              "\n",
              "    .dataframe thead th {\n",
              "        text-align: right;\n",
              "    }\n",
              "</style>\n",
              "<table border=\"1\" class=\"dataframe\">\n",
              "  <thead>\n",
              "    <tr style=\"text-align: right;\">\n",
              "      <th></th>\n",
              "      <th>product_code</th>\n",
              "      <th>pack_size</th>\n",
              "      <th>carton_size</th>\n",
              "      <th>cartoon_price</th>\n",
              "      <th>packet_price</th>\n",
              "      <th>cartoon_quantity</th>\n",
              "      <th>value</th>\n",
              "      <th>region_code</th>\n",
              "      <th>month_sin</th>\n",
              "      <th>month_cos</th>\n",
              "      <th>sale</th>\n",
              "    </tr>\n",
              "  </thead>\n",
              "  <tbody>\n",
              "    <tr>\n",
              "      <th>0</th>\n",
              "      <td>854.461538</td>\n",
              "      <td>441.288462</td>\n",
              "      <td>29.865385</td>\n",
              "      <td>6346.538462</td>\n",
              "      <td>448.269231</td>\n",
              "      <td>108.451923</td>\n",
              "      <td>485008.230769</td>\n",
              "      <td>29951.923077</td>\n",
              "      <td>0.882712</td>\n",
              "      <td>-0.469915</td>\n",
              "      <td>126787.038462</td>\n",
              "    </tr>\n",
              "    <tr>\n",
              "      <th>1</th>\n",
              "      <td>854.461538</td>\n",
              "      <td>441.288462</td>\n",
              "      <td>29.865385</td>\n",
              "      <td>6346.538462</td>\n",
              "      <td>448.269231</td>\n",
              "      <td>108.451923</td>\n",
              "      <td>485008.230769</td>\n",
              "      <td>29951.923077</td>\n",
              "      <td>0.521260</td>\n",
              "      <td>-0.853398</td>\n",
              "      <td>123528.105769</td>\n",
              "    </tr>\n",
              "    <tr>\n",
              "      <th>2</th>\n",
              "      <td>854.461538</td>\n",
              "      <td>441.288462</td>\n",
              "      <td>29.865385</td>\n",
              "      <td>6346.538462</td>\n",
              "      <td>448.269231</td>\n",
              "      <td>108.451923</td>\n",
              "      <td>485008.230769</td>\n",
              "      <td>29951.923077</td>\n",
              "      <td>0.032249</td>\n",
              "      <td>-0.999480</td>\n",
              "      <td>111784.346154</td>\n",
              "    </tr>\n",
              "    <tr>\n",
              "      <th>3</th>\n",
              "      <td>854.461538</td>\n",
              "      <td>441.288462</td>\n",
              "      <td>29.865385</td>\n",
              "      <td>6346.538462</td>\n",
              "      <td>448.269231</td>\n",
              "      <td>108.451923</td>\n",
              "      <td>485008.230769</td>\n",
              "      <td>29951.923077</td>\n",
              "      <td>-0.480321</td>\n",
              "      <td>-0.877093</td>\n",
              "      <td>122908.740385</td>\n",
              "    </tr>\n",
              "  </tbody>\n",
              "</table>\n",
              "</div>\n",
              "      <button class=\"colab-df-convert\" onclick=\"convertToInteractive('df-9a759c2b-54fa-48d3-ac01-54a026f7af7a')\"\n",
              "              title=\"Convert this dataframe to an interactive table.\"\n",
              "              style=\"display:none;\">\n",
              "        \n",
              "  <svg xmlns=\"http://www.w3.org/2000/svg\" height=\"24px\"viewBox=\"0 0 24 24\"\n",
              "       width=\"24px\">\n",
              "    <path d=\"M0 0h24v24H0V0z\" fill=\"none\"/>\n",
              "    <path d=\"M18.56 5.44l.94 2.06.94-2.06 2.06-.94-2.06-.94-.94-2.06-.94 2.06-2.06.94zm-11 1L8.5 8.5l.94-2.06 2.06-.94-2.06-.94L8.5 2.5l-.94 2.06-2.06.94zm10 10l.94 2.06.94-2.06 2.06-.94-2.06-.94-.94-2.06-.94 2.06-2.06.94z\"/><path d=\"M17.41 7.96l-1.37-1.37c-.4-.4-.92-.59-1.43-.59-.52 0-1.04.2-1.43.59L10.3 9.45l-7.72 7.72c-.78.78-.78 2.05 0 2.83L4 21.41c.39.39.9.59 1.41.59.51 0 1.02-.2 1.41-.59l7.78-7.78 2.81-2.81c.8-.78.8-2.07 0-2.86zM5.41 20L4 18.59l7.72-7.72 1.47 1.35L5.41 20z\"/>\n",
              "  </svg>\n",
              "      </button>\n",
              "      \n",
              "  <style>\n",
              "    .colab-df-container {\n",
              "      display:flex;\n",
              "      flex-wrap:wrap;\n",
              "      gap: 12px;\n",
              "    }\n",
              "\n",
              "    .colab-df-convert {\n",
              "      background-color: #E8F0FE;\n",
              "      border: none;\n",
              "      border-radius: 50%;\n",
              "      cursor: pointer;\n",
              "      display: none;\n",
              "      fill: #1967D2;\n",
              "      height: 32px;\n",
              "      padding: 0 0 0 0;\n",
              "      width: 32px;\n",
              "    }\n",
              "\n",
              "    .colab-df-convert:hover {\n",
              "      background-color: #E2EBFA;\n",
              "      box-shadow: 0px 1px 2px rgba(60, 64, 67, 0.3), 0px 1px 3px 1px rgba(60, 64, 67, 0.15);\n",
              "      fill: #174EA6;\n",
              "    }\n",
              "\n",
              "    [theme=dark] .colab-df-convert {\n",
              "      background-color: #3B4455;\n",
              "      fill: #D2E3FC;\n",
              "    }\n",
              "\n",
              "    [theme=dark] .colab-df-convert:hover {\n",
              "      background-color: #434B5C;\n",
              "      box-shadow: 0px 1px 3px 1px rgba(0, 0, 0, 0.15);\n",
              "      filter: drop-shadow(0px 1px 2px rgba(0, 0, 0, 0.3));\n",
              "      fill: #FFFFFF;\n",
              "    }\n",
              "  </style>\n",
              "\n",
              "      <script>\n",
              "        const buttonEl =\n",
              "          document.querySelector('#df-9a759c2b-54fa-48d3-ac01-54a026f7af7a button.colab-df-convert');\n",
              "        buttonEl.style.display =\n",
              "          google.colab.kernel.accessAllowed ? 'block' : 'none';\n",
              "\n",
              "        async function convertToInteractive(key) {\n",
              "          const element = document.querySelector('#df-9a759c2b-54fa-48d3-ac01-54a026f7af7a');\n",
              "          const dataTable =\n",
              "            await google.colab.kernel.invokeFunction('convertToInteractive',\n",
              "                                                     [key], {});\n",
              "          if (!dataTable) return;\n",
              "\n",
              "          const docLinkHtml = 'Like what you see? Visit the ' +\n",
              "            '<a target=\"_blank\" href=https://colab.research.google.com/notebooks/data_table.ipynb>data table notebook</a>'\n",
              "            + ' to learn more about interactive tables.';\n",
              "          element.innerHTML = '';\n",
              "          dataTable['output_type'] = 'display_data';\n",
              "          await google.colab.output.renderOutput(dataTable, element);\n",
              "          const docLink = document.createElement('div');\n",
              "          docLink.innerHTML = docLinkHtml;\n",
              "          element.appendChild(docLink);\n",
              "        }\n",
              "      </script>\n",
              "    </div>\n",
              "  </div>\n",
              "  "
            ]
          },
          "metadata": {},
          "execution_count": 98
        }
      ]
    },
    {
      "cell_type": "code",
      "source": [
        "# Subseting only the needed columns\n",
        "ts = d[features_final]\n",
        "\n",
        "nrows = ts.shape[0]\n",
        "\n",
        "# Spliting into train and test sets\n",
        "train = ts[:int(nrows * (1 - test_share))]\n",
        "test = ts[int(nrows * (1 - test_share)):]\n",
        "\n",
        "print(train)\n",
        "print(test)\n",
        "# Scaling the data\n",
        "train_mean = train.mean()\n",
        "train_std = train.std()\n",
        "\n",
        "print(train_mean)\n",
        "print(train_std)\n",
        "\n",
        "train = (train - train_mean) / train_std\n",
        "test = (test - train_mean) / train_std\n",
        "print(train)\n",
        "print(test)\n",
        "# Creating the final scaled frame\n",
        "ts_s = pd.concat([train, test])"
      ],
      "metadata": {
        "id": "qryLnn2mDece",
        "colab": {
          "base_uri": "https://localhost:8080/"
        },
        "outputId": "4b3e90d2-3c76-4b9d-fd10-2bdfde8722f6"
      },
      "execution_count": null,
      "outputs": [
        {
          "output_type": "stream",
          "name": "stdout",
          "text": [
            "   product_code   pack_size  carton_size  cartoon_price  packet_price  \\\n",
            "0    854.461538  441.288462    29.865385    6346.538462    448.269231   \n",
            "1    854.461538  441.288462    29.865385    6346.538462    448.269231   \n",
            "2    854.461538  441.288462    29.865385    6346.538462    448.269231   \n",
            "\n",
            "   cartoon_quantity          value   region_code  month_sin  month_cos  \\\n",
            "0        108.451923  485008.230769  29951.923077   0.882712  -0.469915   \n",
            "1        108.451923  485008.230769  29951.923077   0.521260  -0.853398   \n",
            "2        108.451923  485008.230769  29951.923077   0.032249  -0.999480   \n",
            "\n",
            "            sale  \n",
            "0  126787.038462  \n",
            "1  123528.105769  \n",
            "2  111784.346154  \n",
            "   product_code   pack_size  carton_size  cartoon_price  packet_price  \\\n",
            "3    854.461538  441.288462    29.865385    6346.538462    448.269231   \n",
            "\n",
            "   cartoon_quantity          value   region_code  month_sin  month_cos  \\\n",
            "3        108.451923  485008.230769  29951.923077  -0.480321  -0.877093   \n",
            "\n",
            "            sale  \n",
            "3  122908.740385  \n",
            "product_code           854.461538\n",
            "pack_size              441.288462\n",
            "carton_size             29.865385\n",
            "cartoon_price         6346.538462\n",
            "packet_price           448.269231\n",
            "cartoon_quantity       108.451923\n",
            "value               485008.230769\n",
            "region_code          29951.923077\n",
            "month_sin                0.478740\n",
            "month_cos               -0.774264\n",
            "sale                120699.830128\n",
            "dtype: float64\n",
            "product_code        0.000000e+00\n",
            "pack_size           6.961869e-14\n",
            "carton_size         0.000000e+00\n",
            "cartoon_price       0.000000e+00\n",
            "packet_price        0.000000e+00\n",
            "cartoon_quantity    0.000000e+00\n",
            "value               0.000000e+00\n",
            "region_code         0.000000e+00\n",
            "month_sin           4.268229e-01\n",
            "month_cos           2.735077e-01\n",
            "sale                7.891106e+03\n",
            "dtype: float64\n",
            "   product_code  pack_size  carton_size  cartoon_price  packet_price  \\\n",
            "0           NaN  -0.816497          NaN            NaN           NaN   \n",
            "1           NaN  -0.816497          NaN            NaN           NaN   \n",
            "2           NaN  -0.816497          NaN            NaN           NaN   \n",
            "\n",
            "   cartoon_quantity  value  region_code  month_sin  month_cos      sale  \n",
            "0               NaN    NaN          NaN   0.946462   1.112764  0.771401  \n",
            "1               NaN    NaN          NaN   0.099620  -0.289329  0.358413  \n",
            "2               NaN    NaN          NaN  -1.046081  -0.823435 -1.129814  \n",
            "   product_code  pack_size  carton_size  cartoon_price  packet_price  \\\n",
            "3           NaN  -0.816497          NaN            NaN           NaN   \n",
            "\n",
            "   cartoon_quantity  value  region_code  month_sin  month_cos      sale  \n",
            "3               NaN    NaN          NaN  -2.246977  -0.375963  0.279924  \n"
          ]
        }
      ]
    },
    {
      "cell_type": "code",
      "source": [
        "ts_s.dropna"
      ],
      "metadata": {
        "colab": {
          "base_uri": "https://localhost:8080/"
        },
        "id": "SiEScOE8jkYL",
        "outputId": "0ab76f5b-c72d-4845-ba89-434d56b6fb7e"
      },
      "execution_count": null,
      "outputs": [
        {
          "output_type": "execute_result",
          "data": {
            "text/plain": [
              "<bound method DataFrame.dropna of    product_code  pack_size  carton_size  cartoon_price  packet_price  \\\n",
              "0           NaN  -0.816497          NaN            NaN           NaN   \n",
              "1           NaN  -0.816497          NaN            NaN           NaN   \n",
              "2           NaN  -0.816497          NaN            NaN           NaN   \n",
              "3           NaN  -0.816497          NaN            NaN           NaN   \n",
              "\n",
              "   cartoon_quantity  value  region_code  month_sin  month_cos      sale  \n",
              "0               NaN    NaN          NaN   0.946462   1.112764  0.771401  \n",
              "1               NaN    NaN          NaN   0.099620  -0.289329  0.358413  \n",
              "2               NaN    NaN          NaN  -1.046081  -0.823435 -1.129814  \n",
              "3               NaN    NaN          NaN  -2.246977  -0.375963  0.279924  >"
            ]
          },
          "metadata": {},
          "execution_count": 100
        }
      ]
    },
    {
      "cell_type": "code",
      "source": [
        "ts_s = ts_s.drop(['product_code', 'carton_size', 'cartoon_price', 'packet_price', 'cartoon_quantity', 'value', 'region_code'], axis = 1)"
      ],
      "metadata": {
        "id": "wS8QUDf_j6ok"
      },
      "execution_count": null,
      "outputs": []
    },
    {
      "cell_type": "code",
      "source": [
        "#import numpy as np\n",
        "\n",
        "#d = np.arange(528).reshape(1, 48 ,11 )\n",
        "\n",
        "#d = d.reshape((d.shape[0]*1, 48, 11))\n",
        "\n",
        "#print(d.shape)"
      ],
      "metadata": {
        "id": "3VxyWTMTJosB"
      },
      "execution_count": null,
      "outputs": []
    },
    {
      "cell_type": "code",
      "source": [
        "ts_s.shape"
      ],
      "metadata": {
        "colab": {
          "base_uri": "https://localhost:8080/"
        },
        "id": "SAIbYt7GN-GZ",
        "outputId": "3f62477b-644a-4ee1-9a5e-6a15e2d7e22f"
      },
      "execution_count": null,
      "outputs": [
        {
          "output_type": "execute_result",
          "data": {
            "text/plain": [
              "(4, 4)"
            ]
          },
          "metadata": {},
          "execution_count": 103
        }
      ]
    },
    {
      "cell_type": "code",
      "source": [
        "ts_s.values[0]"
      ],
      "metadata": {
        "colab": {
          "base_uri": "https://localhost:8080/"
        },
        "id": "sYF2UgBjaiZb",
        "outputId": "7589b8ee-ec8a-438d-b7c8-e9dc2321d1f5"
      },
      "execution_count": null,
      "outputs": [
        {
          "output_type": "execute_result",
          "data": {
            "text/plain": [
              "array([-0.81649658,  0.94646162,  1.11276388,  0.77140118])"
            ]
          },
          "metadata": {},
          "execution_count": 104
        }
      ]
    },
    {
      "cell_type": "code",
      "source": [
        "def create_X_Y(ts: np.array, lag=1, n_ahead=1, target_index=0) -> tuple:\n",
        "    \"\"\"\n",
        "    A method to create X and Y matrix from a time series array for the training of\n",
        "    deep learning models\n",
        "    \"\"\"\n",
        "    # Extracting the number of features that are passed from the array\n",
        "    n_features = ts.shape[1]\n",
        "\n",
        "    # Creating placeholder lists\n",
        "    X, Y = [], []\n",
        "\n",
        "    if len(ts) - lag <= 0:\n",
        "        X.append(ts)\n",
        "        print('here')\n",
        "    else:\n",
        "        for i in range(len(ts) - lag - n_ahead):\n",
        "            Y.append(ts[ target_index, (i + lag):(i + lag + n_ahead)])\n",
        "            X.append(ts[i:(i + lag)])\n",
        "\n",
        "    X, Y = np.array(X), np.array(Y)\n",
        "    #print(f\"{X}, ({X.shape[0]}, {lag}, {n_features})\")\n",
        "    print(X)\n",
        "    print(Y)\n",
        "\n",
        "    # Reshaping the X array to an RNN input shape\n",
        "    X = np.reshape(X, (X.shape[0], lag, n_features))\n",
        "\n",
        "    return X, Y"
      ],
      "metadata": {
        "id": "79g-_GtNasvc"
      },
      "execution_count": null,
      "outputs": []
    },
    {
      "cell_type": "code",
      "source": [
        "ts_s.shape[0]"
      ],
      "metadata": {
        "colab": {
          "base_uri": "https://localhost:8080/"
        },
        "id": "lW4esS91axLZ",
        "outputId": "26f88a55-8861-44a9-da11-9fec247f9438"
      },
      "execution_count": null,
      "outputs": [
        {
          "output_type": "execute_result",
          "data": {
            "text/plain": [
              "4"
            ]
          },
          "metadata": {},
          "execution_count": 106
        }
      ]
    },
    {
      "cell_type": "code",
      "source": [
        "\n",
        "X, Y = create_X_Y(ts_s.values, lag=lag, n_ahead=n_ahead)\n",
        "\n",
        "n_ft = X.shape[2]"
      ],
      "metadata": {
        "id": "cYHYiU3YD2eF",
        "colab": {
          "base_uri": "https://localhost:8080/"
        },
        "outputId": "9741dc2e-fa3a-4935-df3d-ad0bd7c9a693"
      },
      "execution_count": null,
      "outputs": [
        {
          "output_type": "stream",
          "name": "stdout",
          "text": [
            "[[[-0.81649658  0.94646162  1.11276388  0.77140118]]\n",
            "\n",
            " [[-0.81649658  0.09961978 -0.28932874  0.35841309]]]\n",
            "[[0.94646162]\n",
            " [1.11276388]]\n"
          ]
        }
      ]
    },
    {
      "cell_type": "code",
      "source": [
        "# Spliting into train and test sets\n",
        "Xtrain, Ytrain = X[0:int(X.shape[0] * (1 - test_share))], Y[0:int(X.shape[0] * (1 - test_share))]\n",
        "Xval, Yval = X[int(X.shape[0] * (1 - test_share)):], Y[int(X.shape[0] * (1 - test_share)):]"
      ],
      "metadata": {
        "id": "aBiku7uKD2hF"
      },
      "execution_count": null,
      "outputs": []
    },
    {
      "cell_type": "code",
      "source": [
        "print(f\"Shape of training data: {Xtrain.shape}\")\n",
        "print(f\"Shape of the target data: {Ytrain.shape}\")\n",
        "\n",
        "print(f\"Shape of validation data: {Xval.shape}\")\n",
        "print(f\"Shape of the validation target data: {Yval.shape}\")"
      ],
      "metadata": {
        "id": "u70oNYkoD2kV",
        "colab": {
          "base_uri": "https://localhost:8080/"
        },
        "outputId": "37e63e2e-0b0c-4f4d-f641-1d0f3fbb26f9"
      },
      "execution_count": null,
      "outputs": [
        {
          "output_type": "stream",
          "name": "stdout",
          "text": [
            "Shape of training data: (1, 1, 4)\n",
            "Shape of the target data: (1, 1)\n",
            "Shape of validation data: (1, 1, 4)\n",
            "Shape of the validation target data: (1, 1)\n"
          ]
        }
      ]
    },
    {
      "cell_type": "code",
      "source": [],
      "metadata": {
        "id": "HmqLSJgru7D3"
      },
      "execution_count": null,
      "outputs": []
    },
    {
      "cell_type": "markdown",
      "source": [
        "defining the model"
      ],
      "metadata": {
        "id": "0xcoyAs8EC4x"
      }
    },
    {
      "cell_type": "code",
      "source": [
        "class NNMultistepModel():\n",
        "\n",
        "    def __init__(\n",
        "        self,\n",
        "        X,\n",
        "        Y,\n",
        "        n_outputs,\n",
        "        n_lag,\n",
        "        n_ft,\n",
        "        n_layer,\n",
        "        batch,\n",
        "        epochs,\n",
        "        lr,\n",
        "        Xval=None,\n",
        "        Yval=None,\n",
        "        mask_value=-999.0,\n",
        "        min_delta=0.001,\n",
        "        patience=5\n",
        "    ):\n",
        "        lstm_input = Input(shape=(n_lag, n_ft))\n",
        "\n",
        "        # Series signal\n",
        "        lstm_layer = LSTM(n_layer, activation='relu')(lstm_input)\n",
        "\n",
        "        x = Dense(n_outputs)(lstm_layer)\n",
        "\n",
        "        self.model = Model(inputs=lstm_input, outputs=x)\n",
        "        self.batch = batch\n",
        "        self.epochs = epochs\n",
        "        self.n_layer=n_layer\n",
        "        self.lr = lr\n",
        "        self.Xval = Xval\n",
        "        self.Yval = Yval\n",
        "        self.X = X\n",
        "        self.Y = Y\n",
        "        self.mask_value = mask_value\n",
        "        self.min_delta = min_delta\n",
        "        self.patience = patience\n",
        "\n",
        "    def trainCallback(self):\n",
        "        return EarlyStopping(monitor='loss', patience=self.patience, min_delta=self.min_delta)\n",
        "\n",
        "    def train(self):\n",
        "        # Getting the untrained model\n",
        "        empty_model = self.model\n",
        "\n",
        "        # Initiating the optimizer\n",
        "        optimizer = keras.optimizers.Adam(learning_rate=self.lr)\n",
        "\n",
        "        # Compiling the model\n",
        "        empty_model.compile(loss=losses.MeanAbsoluteError(), optimizer=optimizer)\n",
        "\n",
        "        if (self.Xval is not None) & (self.Yval is not None):\n",
        "            history = empty_model.fit(\n",
        "                self.X,\n",
        "                self.Y,\n",
        "                epochs=self.epochs,\n",
        "                batch_size=self.batch,\n",
        "                validation_data=(self.Xval, self.Yval),\n",
        "                shuffle=False,\n",
        "                callbacks=[self.trainCallback()]\n",
        "            )\n",
        "        else:\n",
        "            history = empty_model.fit(\n",
        "                self.X,\n",
        "                self.Y,\n",
        "                epochs=self.epochs,\n",
        "                batch_size=self.batch,\n",
        "                shuffle=False,\n",
        "                callbacks=[self.trainCallback()]\n",
        "            )\n",
        "\n",
        "        # Saving to original model attribute in the class\n",
        "        self.model = empty_model\n",
        "\n",
        "        # Returning the training history\n",
        "        return history\n",
        "\n",
        "    def predict(self, X):\n",
        "        return self.model.predict(X)"
      ],
      "metadata": {
        "id": "5mqqlO9uD2qo"
      },
      "execution_count": null,
      "outputs": []
    },
    {
      "cell_type": "code",
      "source": [
        "model = NNMultistepModel(\n",
        "    X=Xtrain,\n",
        "    Y=Ytrain,\n",
        "    n_outputs=n_ahead,\n",
        "    n_lag=lag,\n",
        "    n_ft=n_ft,\n",
        "    n_layer=n_layer,\n",
        "    batch=batch_size,\n",
        "    epochs=epochs,\n",
        "    lr=lr,\n",
        "    Xval=Xval,\n",
        "    Yval=Yval,\n",
        ")"
      ],
      "metadata": {
        "id": "c9u7RCxUEFlu"
      },
      "execution_count": null,
      "outputs": []
    },
    {
      "cell_type": "code",
      "source": [
        "model.model.summary()"
      ],
      "metadata": {
        "id": "sTc9fouCEJUk",
        "colab": {
          "base_uri": "https://localhost:8080/"
        },
        "outputId": "02b07d58-577a-428d-c0cb-cd4b22c57925"
      },
      "execution_count": null,
      "outputs": [
        {
          "output_type": "stream",
          "name": "stdout",
          "text": [
            "Model: \"model\"\n",
            "_________________________________________________________________\n",
            " Layer (type)                Output Shape              Param #   \n",
            "=================================================================\n",
            " input_1 (InputLayer)        [(None, 1, 4)]            0         \n",
            "                                                                 \n",
            " lstm (LSTM)                 (None, 10)                600       \n",
            "                                                                 \n",
            " dense (Dense)               (None, 1)                 11        \n",
            "                                                                 \n",
            "=================================================================\n",
            "Total params: 611\n",
            "Trainable params: 611\n",
            "Non-trainable params: 0\n",
            "_________________________________________________________________\n"
          ]
        }
      ]
    },
    {
      "cell_type": "code",
      "source": [
        "history = model.train()"
      ],
      "metadata": {
        "id": "PMEOquK-EJW_",
        "colab": {
          "base_uri": "https://localhost:8080/"
        },
        "outputId": "d18a120d-e5df-4ec5-c325-76f6b56fd576"
      },
      "execution_count": null,
      "outputs": [
        {
          "output_type": "stream",
          "name": "stdout",
          "text": [
            "Epoch 1/20\n",
            "1/1 [==============================] - 2s 2s/step - loss: 0.9429 - val_loss: 1.1135\n",
            "Epoch 2/20\n",
            "1/1 [==============================] - 0s 30ms/step - loss: 0.9368 - val_loss: 1.1113\n",
            "Epoch 3/20\n",
            "1/1 [==============================] - 0s 33ms/step - loss: 0.9308 - val_loss: 1.1092\n",
            "Epoch 4/20\n",
            "1/1 [==============================] - 0s 30ms/step - loss: 0.9247 - val_loss: 1.1070\n",
            "Epoch 5/20\n",
            "1/1 [==============================] - 0s 27ms/step - loss: 0.9186 - val_loss: 1.1048\n",
            "Epoch 6/20\n",
            "1/1 [==============================] - 0s 30ms/step - loss: 0.9125 - val_loss: 1.1026\n",
            "Epoch 7/20\n",
            "1/1 [==============================] - 0s 28ms/step - loss: 0.9064 - val_loss: 1.1004\n",
            "Epoch 8/20\n",
            "1/1 [==============================] - 0s 31ms/step - loss: 0.9003 - val_loss: 1.0982\n",
            "Epoch 9/20\n",
            "1/1 [==============================] - 0s 33ms/step - loss: 0.8942 - val_loss: 1.0961\n",
            "Epoch 10/20\n",
            "1/1 [==============================] - 0s 28ms/step - loss: 0.8880 - val_loss: 1.0939\n",
            "Epoch 11/20\n",
            "1/1 [==============================] - 0s 26ms/step - loss: 0.8819 - val_loss: 1.0917\n",
            "Epoch 12/20\n",
            "1/1 [==============================] - 0s 28ms/step - loss: 0.8758 - val_loss: 1.0895\n",
            "Epoch 13/20\n",
            "1/1 [==============================] - 0s 29ms/step - loss: 0.8696 - val_loss: 1.0873\n",
            "Epoch 14/20\n",
            "1/1 [==============================] - 0s 26ms/step - loss: 0.8634 - val_loss: 1.0851\n",
            "Epoch 15/20\n",
            "1/1 [==============================] - 0s 26ms/step - loss: 0.8573 - val_loss: 1.0828\n",
            "Epoch 16/20\n",
            "1/1 [==============================] - 0s 31ms/step - loss: 0.8511 - val_loss: 1.0806\n",
            "Epoch 17/20\n",
            "1/1 [==============================] - 0s 30ms/step - loss: 0.8449 - val_loss: 1.0784\n",
            "Epoch 18/20\n",
            "1/1 [==============================] - 0s 30ms/step - loss: 0.8386 - val_loss: 1.0762\n",
            "Epoch 19/20\n",
            "1/1 [==============================] - 0s 27ms/step - loss: 0.8324 - val_loss: 1.0740\n",
            "Epoch 20/20\n",
            "1/1 [==============================] - 0s 27ms/step - loss: 0.8262 - val_loss: 1.0718\n"
          ]
        }
      ]
    },
    {
      "cell_type": "code",
      "source": [
        "loss = history.history.get('loss')\n",
        "val_loss = history.history.get('val_loss')\n",
        "\n",
        "n_epochs = range(len(loss))\n",
        "\n",
        "plt.figure(figsize=(9, 7))\n",
        "plt.plot(n_epochs, loss, 'r', label='Training loss', color='blue')\n",
        "if val_loss is not None:\n",
        "    plt.plot(n_epochs, val_loss, 'r', label='Validation loss', color='red')\n",
        "plt.legend(loc=0)\n",
        "plt.xlabel('Epoch')\n",
        "plt.ylabel('Loss value')\n",
        "plt.show()"
      ],
      "metadata": {
        "id": "lT27B_IIEJbw",
        "colab": {
          "base_uri": "https://localhost:8080/",
          "height": 442
        },
        "outputId": "b22a4950-c9da-4556-a5b5-27b51cd6007b"
      },
      "execution_count": null,
      "outputs": [
        {
          "output_type": "display_data",
          "data": {
            "text/plain": [
              "<Figure size 648x504 with 1 Axes>"
            ],
            "image/png": "[encoded data removed]"
          },
          "metadata": {
            "needs_background": "light"
          }
        }
      ]
    },
    {
      "cell_type": "code",
      "source": [
        "# Comparing the forecasts with the actual values\n",
        "yhat = [x[0] for x in model.predict(Xval)]\n",
        "y = [y[0] for y in Yval]"
      ],
      "metadata": {
        "id": "r3N-3caFEFrE"
      },
      "execution_count": null,
      "outputs": []
    },
    {
      "cell_type": "code",
      "source": [
        "# Creating the frame to store both predictions\n",
        "days = d['time'].values[-len(y):]\n",
        "\n",
        "frame = pd.concat([\n",
        "    pd.DataFrame({'day': days, 'sale': y, 'type': 'original'}),\n",
        "    pd.DataFrame({'day': days, 'sale': yhat, 'type': 'forecast'})\n",
        "])\n",
        "\n",
        "# Creating the unscaled values column\n",
        "frame['sale_absolute'] = [(x * train_std['sale']) + train_mean['sale'] for x in frame['sale']]\n",
        "\n",
        "# Pivoting\n",
        "pivoted = frame.pivot_table(index='day', columns='type')\n",
        "pivoted.columns = ['_'.join(x).strip() for x in pivoted.columns.values]\n",
        "pivoted['res'] = pivoted['sale_absolute_original'] - pivoted['sale_absolute_forecast']\n",
        "pivoted['res_abs'] = [abs(x) for x in pivoted['res']]"
      ],
      "metadata": {
        "id": "9Zkj1iDmEFuZ"
      },
      "execution_count": null,
      "outputs": []
    },
    {
      "cell_type": "code",
      "source": [
        "pivoted.tail(10)"
      ],
      "metadata": {
        "id": "AE8vgSzZESqT",
        "colab": {
          "base_uri": "https://localhost:8080/",
          "height": 112
        },
        "outputId": "7f735e49-a09a-4863-cfd6-90c1e5a66402"
      },
      "execution_count": null,
      "outputs": [
        {
          "output_type": "execute_result",
          "data": {
            "text/plain": [
              "            sale_forecast  sale_original  sale_absolute_forecast  \\\n",
              "day                                                                \n",
              "2019-08-01       0.041001       1.112764            121023.37115   \n",
              "\n",
              "            sale_absolute_original          res      res_abs  \n",
              "day                                                           \n",
              "2019-08-01           129480.767674  8457.396524  8457.396524  "
            ],
            "text/html": [
              "\n",
              "  <div id=\"df-ab442854-1294-4178-b0c4-d31413f34a7c\">\n",
              "    <div class=\"colab-df-container\">\n",
              "      <div>\n",
              "<style scoped>\n",
              "    .dataframe tbody tr th:only-of-type {\n",
              "        vertical-align: middle;\n",
              "    }\n",
              "\n",
              "    .dataframe tbody tr th {\n",
              "        vertical-align: top;\n",
              "    }\n",
              "\n",
              "    .dataframe thead th {\n",
              "        text-align: right;\n",
              "    }\n",
              "</style>\n",
              "<table border=\"1\" class=\"dataframe\">\n",
              "  <thead>\n",
              "    <tr style=\"text-align: right;\">\n",
              "      <th></th>\n",
              "      <th>sale_forecast</th>\n",
              "      <th>sale_original</th>\n",
              "      <th>sale_absolute_forecast</th>\n",
              "      <th>sale_absolute_original</th>\n",
              "      <th>res</th>\n",
              "      <th>res_abs</th>\n",
              "    </tr>\n",
              "    <tr>\n",
              "      <th>day</th>\n",
              "      <th></th>\n",
              "      <th></th>\n",
              "      <th></th>\n",
              "      <th></th>\n",
              "      <th></th>\n",
              "      <th></th>\n",
              "    </tr>\n",
              "  </thead>\n",
              "  <tbody>\n",
              "    <tr>\n",
              "      <th>2019-08-01</th>\n",
              "      <td>0.041001</td>\n",
              "      <td>1.112764</td>\n",
              "      <td>121023.37115</td>\n",
              "      <td>129480.767674</td>\n",
              "      <td>8457.396524</td>\n",
              "      <td>8457.396524</td>\n",
              "    </tr>\n",
              "  </tbody>\n",
              "</table>\n",
              "</div>\n",
              "      <button class=\"colab-df-convert\" onclick=\"convertToInteractive('df-ab442854-1294-4178-b0c4-d31413f34a7c')\"\n",
              "              title=\"Convert this dataframe to an interactive table.\"\n",
              "              style=\"display:none;\">\n",
              "        \n",
              "  <svg xmlns=\"http://www.w3.org/2000/svg\" height=\"24px\"viewBox=\"0 0 24 24\"\n",
              "       width=\"24px\">\n",
              "    <path d=\"M0 0h24v24H0V0z\" fill=\"none\"/>\n",
              "    <path d=\"M18.56 5.44l.94 2.06.94-2.06 2.06-.94-2.06-.94-.94-2.06-.94 2.06-2.06.94zm-11 1L8.5 8.5l.94-2.06 2.06-.94-2.06-.94L8.5 2.5l-.94 2.06-2.06.94zm10 10l.94 2.06.94-2.06 2.06-.94-2.06-.94-.94-2.06-.94 2.06-2.06.94z\"/><path d=\"M17.41 7.96l-1.37-1.37c-.4-.4-.92-.59-1.43-.59-.52 0-1.04.2-1.43.59L10.3 9.45l-7.72 7.72c-.78.78-.78 2.05 0 2.83L4 21.41c.39.39.9.59 1.41.59.51 0 1.02-.2 1.41-.59l7.78-7.78 2.81-2.81c.8-.78.8-2.07 0-2.86zM5.41 20L4 18.59l7.72-7.72 1.47 1.35L5.41 20z\"/>\n",
              "  </svg>\n",
              "      </button>\n",
              "      \n",
              "  <style>\n",
              "    .colab-df-container {\n",
              "      display:flex;\n",
              "      flex-wrap:wrap;\n",
              "      gap: 12px;\n",
              "    }\n",
              "\n",
              "    .colab-df-convert {\n",
              "      background-color: #E8F0FE;\n",
              "      border: none;\n",
              "      border-radius: 50%;\n",
              "      cursor: pointer;\n",
              "      display: none;\n",
              "      fill: #1967D2;\n",
              "      height: 32px;\n",
              "      padding: 0 0 0 0;\n",
              "      width: 32px;\n",
              "    }\n",
              "\n",
              "    .colab-df-convert:hover {\n",
              "      background-color: #E2EBFA;\n",
              "      box-shadow: 0px 1px 2px rgba(60, 64, 67, 0.3), 0px 1px 3px 1px rgba(60, 64, 67, 0.15);\n",
              "      fill: #174EA6;\n",
              "    }\n",
              "\n",
              "    [theme=dark] .colab-df-convert {\n",
              "      background-color: #3B4455;\n",
              "      fill: #D2E3FC;\n",
              "    }\n",
              "\n",
              "    [theme=dark] .colab-df-convert:hover {\n",
              "      background-color: #434B5C;\n",
              "      box-shadow: 0px 1px 3px 1px rgba(0, 0, 0, 0.15);\n",
              "      filter: drop-shadow(0px 1px 2px rgba(0, 0, 0, 0.3));\n",
              "      fill: #FFFFFF;\n",
              "    }\n",
              "  </style>\n",
              "\n",
              "      <script>\n",
              "        const buttonEl =\n",
              "          document.querySelector('#df-ab442854-1294-4178-b0c4-d31413f34a7c button.colab-df-convert');\n",
              "        buttonEl.style.display =\n",
              "          google.colab.kernel.accessAllowed ? 'block' : 'none';\n",
              "\n",
              "        async function convertToInteractive(key) {\n",
              "          const element = document.querySelector('#df-ab442854-1294-4178-b0c4-d31413f34a7c');\n",
              "          const dataTable =\n",
              "            await google.colab.kernel.invokeFunction('convertToInteractive',\n",
              "                                                     [key], {});\n",
              "          if (!dataTable) return;\n",
              "\n",
              "          const docLinkHtml = 'Like what you see? Visit the ' +\n",
              "            '<a target=\"_blank\" href=https://colab.research.google.com/notebooks/data_table.ipynb>data table notebook</a>'\n",
              "            + ' to learn more about interactive tables.';\n",
              "          element.innerHTML = '';\n",
              "          dataTable['output_type'] = 'display_data';\n",
              "          await google.colab.output.renderOutput(dataTable, element);\n",
              "          const docLink = document.createElement('div');\n",
              "          docLink.innerHTML = docLinkHtml;\n",
              "          element.appendChild(docLink);\n",
              "        }\n",
              "      </script>\n",
              "    </div>\n",
              "  </div>\n",
              "  "
            ]
          },
          "metadata": {},
          "execution_count": 117
        }
      ]
    },
    {
      "cell_type": "code",
      "source": [
        "plt.figure(figsize=(12, 12))\n",
        "plt.plot(pivoted.index, pivoted.sale, color='blue', label='original')\n",
        "plt.plot(pivoted.index, pivoted.sale_forecast, color='red', label='forecast', alpha=0.6)\n",
        "plt.title('sale forecasts - scaled data')\n",
        "plt.legend()\n",
        "plt.show()"
      ],
      "metadata": {
        "id": "tRMLalzzESs-"
      },
      "execution_count": null,
      "outputs": []
    },
    {
      "cell_type": "code",
      "source": [
        "plt.figure(figsize=(12, 12))\n",
        "plt.plot(pivoted.index, pivoted.sale_absolute_original, color='blue', label='original')\n",
        "plt.plot(pivoted.index, pivoted.sale_absolute_forecast, color='red', label='forecast', alpha=0.6)\n",
        "plt.title('sale forecasts - absolute data')\n",
        "plt.legend()\n",
        "plt.show()"
      ],
      "metadata": {
        "id": "VbBMTQktEYfL",
        "colab": {
          "base_uri": "https://localhost:8080/",
          "height": 716
        },
        "outputId": "d114ed13-6337-4a51-a0f7-ad07a3891c55"
      },
      "execution_count": null,
      "outputs": [
        {
          "output_type": "display_data",
          "data": {
            "text/plain": [
              "<Figure size 864x864 with 1 Axes>"
            ],
            "image/png": "[encoded data removed]"
          },
          "metadata": {
            "needs_background": "light"
          }
        }
      ]
    },
    {
      "cell_type": "code",
      "source": [
        "pivoted = frame.pivot_table(index='day', columns='type')\n",
        "pivoted.columns = ['_'.join(x).strip() for x in pivoted.columns.values]\n",
        "pivoted['res'] = pivoted['sale_absolute_original'] - pivoted['sale_absolute_forecast']\n",
        "pivoted['res_abs'] = [abs(x) for x in pivoted['res']]"
      ],
      "metadata": {
        "id": "XXBT2nzCEYoL"
      },
      "execution_count": null,
      "outputs": []
    },
    {
      "cell_type": "code",
      "source": [
        "pivoted.tail(10)"
      ],
      "metadata": {
        "id": "gDWP2LoxEYue",
        "colab": {
          "base_uri": "https://localhost:8080/",
          "height": 112
        },
        "outputId": "6b4e0d1c-daa6-428d-bb69-3215957d6e0e"
      },
      "execution_count": null,
      "outputs": [
        {
          "output_type": "execute_result",
          "data": {
            "text/plain": [
              "            sale_forecast  sale_original  sale_absolute_forecast  \\\n",
              "day                                                                \n",
              "2019-08-01       0.041001       1.112764            121023.37115   \n",
              "\n",
              "            sale_absolute_original          res      res_abs  \n",
              "day                                                           \n",
              "2019-08-01           129480.767674  8457.396524  8457.396524  "
            ],
            "text/html": [
              "\n",
              "  <div id=\"df-e796d275-b294-4a43-a186-47471c5c7ae1\">\n",
              "    <div class=\"colab-df-container\">\n",
              "      <div>\n",
              "<style scoped>\n",
              "    .dataframe tbody tr th:only-of-type {\n",
              "        vertical-align: middle;\n",
              "    }\n",
              "\n",
              "    .dataframe tbody tr th {\n",
              "        vertical-align: top;\n",
              "    }\n",
              "\n",
              "    .dataframe thead th {\n",
              "        text-align: right;\n",
              "    }\n",
              "</style>\n",
              "<table border=\"1\" class=\"dataframe\">\n",
              "  <thead>\n",
              "    <tr style=\"text-align: right;\">\n",
              "      <th></th>\n",
              "      <th>sale_forecast</th>\n",
              "      <th>sale_original</th>\n",
              "      <th>sale_absolute_forecast</th>\n",
              "      <th>sale_absolute_original</th>\n",
              "      <th>res</th>\n",
              "      <th>res_abs</th>\n",
              "    </tr>\n",
              "    <tr>\n",
              "      <th>day</th>\n",
              "      <th></th>\n",
              "      <th></th>\n",
              "      <th></th>\n",
              "      <th></th>\n",
              "      <th></th>\n",
              "      <th></th>\n",
              "    </tr>\n",
              "  </thead>\n",
              "  <tbody>\n",
              "    <tr>\n",
              "      <th>2019-08-01</th>\n",
              "      <td>0.041001</td>\n",
              "      <td>1.112764</td>\n",
              "      <td>121023.37115</td>\n",
              "      <td>129480.767674</td>\n",
              "      <td>8457.396524</td>\n",
              "      <td>8457.396524</td>\n",
              "    </tr>\n",
              "  </tbody>\n",
              "</table>\n",
              "</div>\n",
              "      <button class=\"colab-df-convert\" onclick=\"convertToInteractive('df-e796d275-b294-4a43-a186-47471c5c7ae1')\"\n",
              "              title=\"Convert this dataframe to an interactive table.\"\n",
              "              style=\"display:none;\">\n",
              "        \n",
              "  <svg xmlns=\"http://www.w3.org/2000/svg\" height=\"24px\"viewBox=\"0 0 24 24\"\n",
              "       width=\"24px\">\n",
              "    <path d=\"M0 0h24v24H0V0z\" fill=\"none\"/>\n",
              "    <path d=\"M18.56 5.44l.94 2.06.94-2.06 2.06-.94-2.06-.94-.94-2.06-.94 2.06-2.06.94zm-11 1L8.5 8.5l.94-2.06 2.06-.94-2.06-.94L8.5 2.5l-.94 2.06-2.06.94zm10 10l.94 2.06.94-2.06 2.06-.94-2.06-.94-.94-2.06-.94 2.06-2.06.94z\"/><path d=\"M17.41 7.96l-1.37-1.37c-.4-.4-.92-.59-1.43-.59-.52 0-1.04.2-1.43.59L10.3 9.45l-7.72 7.72c-.78.78-.78 2.05 0 2.83L4 21.41c.39.39.9.59 1.41.59.51 0 1.02-.2 1.41-.59l7.78-7.78 2.81-2.81c.8-.78.8-2.07 0-2.86zM5.41 20L4 18.59l7.72-7.72 1.47 1.35L5.41 20z\"/>\n",
              "  </svg>\n",
              "      </button>\n",
              "      \n",
              "  <style>\n",
              "    .colab-df-container {\n",
              "      display:flex;\n",
              "      flex-wrap:wrap;\n",
              "      gap: 12px;\n",
              "    }\n",
              "\n",
              "    .colab-df-convert {\n",
              "      background-color: #E8F0FE;\n",
              "      border: none;\n",
              "      border-radius: 50%;\n",
              "      cursor: pointer;\n",
              "      display: none;\n",
              "      fill: #1967D2;\n",
              "      height: 32px;\n",
              "      padding: 0 0 0 0;\n",
              "      width: 32px;\n",
              "    }\n",
              "\n",
              "    .colab-df-convert:hover {\n",
              "      background-color: #E2EBFA;\n",
              "      box-shadow: 0px 1px 2px rgba(60, 64, 67, 0.3), 0px 1px 3px 1px rgba(60, 64, 67, 0.15);\n",
              "      fill: #174EA6;\n",
              "    }\n",
              "\n",
              "    [theme=dark] .colab-df-convert {\n",
              "      background-color: #3B4455;\n",
              "      fill: #D2E3FC;\n",
              "    }\n",
              "\n",
              "    [theme=dark] .colab-df-convert:hover {\n",
              "      background-color: #434B5C;\n",
              "      box-shadow: 0px 1px 3px 1px rgba(0, 0, 0, 0.15);\n",
              "      filter: drop-shadow(0px 1px 2px rgba(0, 0, 0, 0.3));\n",
              "      fill: #FFFFFF;\n",
              "    }\n",
              "  </style>\n",
              "\n",
              "      <script>\n",
              "        const buttonEl =\n",
              "          document.querySelector('#df-e796d275-b294-4a43-a186-47471c5c7ae1 button.colab-df-convert');\n",
              "        buttonEl.style.display =\n",
              "          google.colab.kernel.accessAllowed ? 'block' : 'none';\n",
              "\n",
              "        async function convertToInteractive(key) {\n",
              "          const element = document.querySelector('#df-e796d275-b294-4a43-a186-47471c5c7ae1');\n",
              "          const dataTable =\n",
              "            await google.colab.kernel.invokeFunction('convertToInteractive',\n",
              "                                                     [key], {});\n",
              "          if (!dataTable) return;\n",
              "\n",
              "          const docLinkHtml = 'Like what you see? Visit the ' +\n",
              "            '<a target=\"_blank\" href=https://colab.research.google.com/notebooks/data_table.ipynb>data table notebook</a>'\n",
              "            + ' to learn more about interactive tables.';\n",
              "          element.innerHTML = '';\n",
              "          dataTable['output_type'] = 'display_data';\n",
              "          await google.colab.output.renderOutput(dataTable, element);\n",
              "          const docLink = document.createElement('div');\n",
              "          docLink.innerHTML = docLinkHtml;\n",
              "          element.appendChild(docLink);\n",
              "        }\n",
              "      </script>\n",
              "    </div>\n",
              "  </div>\n",
              "  "
            ]
          },
          "metadata": {},
          "execution_count": 121
        }
      ]
    },
    {
      "cell_type": "code",
      "source": [
        "print(f\"Average absolute mean error: {round(pivoted['res_abs'].sum() / pivoted.shape[0], 2)} \")"
      ],
      "metadata": {
        "id": "haSeLYEeEf8p",
        "colab": {
          "base_uri": "https://localhost:8080/"
        },
        "outputId": "e2dc92cc-960d-474f-9448-ff5360f2e106"
      },
      "execution_count": null,
      "outputs": [
        {
          "output_type": "stream",
          "name": "stdout",
          "text": [
            "Average absolute mean error: 8457.4 \n"
          ]
        }
      ]
    },
    {
      "cell_type": "code",
      "source": [
        "plt.figure(figsize=(12, 8))\n",
        "plt.hist(pivoted.res, bins=40, edgecolor='black')\n",
        "plt.title('Distribution of errors')\n",
        "plt.show()"
      ],
      "metadata": {
        "id": "pdI8AdGjEf_T"
      },
      "execution_count": null,
      "outputs": []
    },
    {
      "cell_type": "code",
      "source": [
        "plt.figure(figsize=(12, 8))\n",
        "plt.hist(pivoted.res_abs, bins=40, edgecolor='black')\n",
        "plt.title('Distribution of absolute errors')\n",
        "plt.show()"
      ],
      "metadata": {
        "id": "eVi6pCeGEgB1",
        "colab": {
          "base_uri": "https://localhost:8080/",
          "height": 512
        },
        "outputId": "8e65c7cb-8603-418c-c491-b4441ecc1c27"
      },
      "execution_count": null,
      "outputs": [
        {
          "output_type": "display_data",
          "data": {
            "text/plain": [
              "<Figure size 864x576 with 1 Axes>"
            ],
            "image/png": "[encoded data removed]"
          },
          "metadata": {
            "needs_background": "light"
          }
        }
      ]
    },
    {
      "cell_type": "code",
      "source": [
        "pivoted.res_abs.describe()"
      ],
      "metadata": {
        "id": "p8AtMCS3EgEb",
        "colab": {
          "base_uri": "https://localhost:8080/"
        },
        "outputId": "74998444-db40-4bf7-892e-7bfc427c1994"
      },
      "execution_count": null,
      "outputs": [
        {
          "output_type": "execute_result",
          "data": {
            "text/plain": [
              "count       1.000000\n",
              "mean     8457.396524\n",
              "std              NaN\n",
              "min      8457.396524\n",
              "25%      8457.396524\n",
              "50%      8457.396524\n",
              "75%      8457.396524\n",
              "max      8457.396524\n",
              "Name: res_abs, dtype: float64"
            ]
          },
          "metadata": {},
          "execution_count": 124
        }
      ]
    },
    {
      "cell_type": "code",
      "source": [],
      "metadata": {
        "id": "cAmetO3hEnUV"
      },
      "execution_count": null,
      "outputs": []
    },
    {
      "cell_type": "markdown",
      "source": [
        "sequence predicton"
      ],
      "metadata": {
        "id": "HBdN21pSEtW3"
      }
    },
    {
      "cell_type": "code",
      "source": [
        "# Number of lags (hours back) to use for models\n",
        "lag = 1\n",
        "\n",
        "# Steps ahead to forecast\n",
        "n_ahead = 1\n",
        "\n",
        "# Share of obs in testing\n",
        "test_share = 0.1\n",
        "\n",
        "# Epochs for training\n",
        "epochs = 20\n",
        "\n",
        "# Batch size\n",
        "batch_size = 512\n",
        "\n",
        "# Learning rate\n",
        "lr = 0.001\n",
        "\n",
        "# Number of neurons in LSTM layer\n",
        "n_layer = 10"
      ],
      "metadata": {
        "id": "1lIB8YCBEnW1"
      },
      "execution_count": null,
      "outputs": []
    },
    {
      "cell_type": "code",
      "source": [
        "X, Y = create_X_Y(ts_s.values, lag=lag, n_ahead=n_ahead)\n",
        "\n",
        "n_ft = X.shape[2]"
      ],
      "metadata": {
        "id": "lEZYnVmrEnZu",
        "colab": {
          "base_uri": "https://localhost:8080/"
        },
        "outputId": "9a576c59-d76d-490d-ce09-f2b8328c9aa9"
      },
      "execution_count": null,
      "outputs": [
        {
          "output_type": "stream",
          "name": "stdout",
          "text": [
            "[[[-0.81649658  0.94646162  1.11276388  0.77140118]]\n",
            "\n",
            " [[-0.81649658  0.09961978 -0.28932874  0.35841309]]]\n",
            "[[0.94646162]\n",
            " [1.11276388]]\n"
          ]
        }
      ]
    },
    {
      "cell_type": "code",
      "source": [
        "# Spliting into train and test sets\n",
        "Xtrain, Ytrain = X[0:int(X.shape[0] * (1 - test_share))], Y[0:int(X.shape[0] * (1 - test_share))]\n",
        "Xval, Yval = X[int(X.shape[0] * (1 - test_share)):], Y[int(X.shape[0] * (1 - test_share)):]\n",
        "\n",
        "print(f\"Shape of training data: {Xtrain.shape}\")\n",
        "print(f\"Shape of the target data: {Ytrain.shape}\")\n",
        "\n",
        "print(f\"Shape of validation data: {Xval.shape}\")\n",
        "print(f\"Shape of the validation target data: {Yval.shape}\")"
      ],
      "metadata": {
        "id": "WHYjoWh9EndR",
        "colab": {
          "base_uri": "https://localhost:8080/"
        },
        "outputId": "fc4f8976-bab3-4730-d102-790cb7097d6d"
      },
      "execution_count": null,
      "outputs": [
        {
          "output_type": "stream",
          "name": "stdout",
          "text": [
            "Shape of training data: (1, 1, 4)\n",
            "Shape of the target data: (1, 1)\n",
            "Shape of validation data: (1, 1, 4)\n",
            "Shape of the validation target data: (1, 1)\n"
          ]
        }
      ]
    },
    {
      "cell_type": "code",
      "source": [],
      "metadata": {
        "id": "wVy-DgFkvlRL"
      },
      "execution_count": null,
      "outputs": []
    },
    {
      "cell_type": "code",
      "source": [
        "model = NNMultistepModel(\n",
        "    X=Xtrain,\n",
        "    Y=Ytrain,\n",
        "    n_outputs=n_ahead,\n",
        "    n_lag=lag,\n",
        "    n_ft=n_ft,\n",
        "    n_layer=n_layer,\n",
        "    batch=batch_size,\n",
        "    epochs=epochs,\n",
        "    lr=lr,\n",
        "    Xval=Xval,\n",
        "    Yval=Yval,\n",
        ")"
      ],
      "metadata": {
        "id": "hTmB28xQE2EA"
      },
      "execution_count": null,
      "outputs": []
    },
    {
      "cell_type": "code",
      "source": [
        "model.model.summary()"
      ],
      "metadata": {
        "id": "S-GgIIl0E2Gr"
      },
      "execution_count": null,
      "outputs": []
    },
    {
      "cell_type": "code",
      "source": [
        "history = model.train()"
      ],
      "metadata": {
        "id": "XVwfcPmME2JX"
      },
      "execution_count": null,
      "outputs": []
    },
    {
      "cell_type": "code",
      "source": [
        "loss = history.history.get('loss')\n",
        "val_loss = history.history.get('val_loss')\n",
        "\n",
        "n_epochs = range(len(loss))\n",
        "\n",
        "plt.figure(figsize=(9, 7))\n",
        "plt.plot(n_epochs, loss, 'r', label='Training loss', color='blue')\n",
        "if val_loss is not None:\n",
        "    plt.plot(n_epochs, val_loss, 'r', label='Validation loss', color='red')\n",
        "plt.legend(loc=0)\n",
        "plt.xlabel('Epoch')\n",
        "plt.ylabel('Loss value')\n",
        "plt.show()"
      ],
      "metadata": {
        "id": "mwYK5oa0E7v2"
      },
      "execution_count": null,
      "outputs": []
    },
    {
      "cell_type": "code",
      "source": [
        "# Forecasting on all the samples in the validation set\n",
        "forecast = model.predict(Xval)\n"
      ],
      "metadata": {
        "id": "iAlzn6ukE70_"
      },
      "execution_count": null,
      "outputs": []
    },
    {
      "cell_type": "code",
      "source": [
        "print(forecast)"
      ],
      "metadata": {
        "id": "uf96s8fEmiX0"
      },
      "execution_count": null,
      "outputs": []
    },
    {
      "cell_type": "code",
      "source": [
        "fig, axes = plt.subplots(\n",
        "    nrows=4,\n",
        "    ncols=2,\n",
        "    figsize=(15, 15),\n",
        "    facecolor=\"w\",\n",
        "    edgecolor=\"k\"\n",
        ")\n",
        "\n",
        "indexes = random.sample(range(len(forecast)), 8)\n",
        "\n",
        "for i, index in enumerate(indexes):\n",
        "\n",
        "    yhat = forecast[index]\n",
        "    y = Yval[index]\n",
        "\n",
        "    frame = pd.concat([\n",
        "        pd.DataFrame({'day': range(len(y)), 'temp': y, 'type': 'original'}),\n",
        "        pd.DataFrame({'day': range(len(y)), 'temp': yhat, 'type': 'forecast'})\n",
        "    ])\n",
        "\n",
        "    frame['temp'] = [(x * train_std['temp']) + train_mean['temp'] for x in frame['temp']]\n",
        "\n",
        "    sns.lineplot(x='day', y='temp', ax = axes[i // 2, i % 2], data=frame, hue='type', marker='o')\n",
        "\n",
        "plt.tight_layout()\n",
        "\n",
        "plt.show()"
      ],
      "metadata": {
        "id": "te6Zl6sXE75b"
      },
      "execution_count": null,
      "outputs": []
    },
    {
      "cell_type": "code",
      "source": [
        "# Calculating the total average absolute error\n",
        "error = 0\n",
        "n = 0\n",
        "residuals = []\n",
        "\n",
        "for i in range(Yval.shape[0]):\n",
        "    true = Yval[i]\n",
        "    hat = forecast[i]\n",
        "    n += len(true)\n",
        "\n",
        "    true = np.asarray([(x * train_std['sale']) + train_mean['sale'] for x in true])\n",
        "    hat = np.asarray([(x * train_std['sale']) + train_mean['sale'] for x in hat])\n",
        "\n",
        "    residual = true - hat\n",
        "    residuals.append(residual)\n",
        "\n",
        "    error += np.sum([abs(x) for x in true - hat])\n",
        "\n",
        "print(f'Final average absolute error: {round(error / n, 2)} C')"
      ],
      "metadata": {
        "id": "GMweHjKqFDjW"
      },
      "execution_count": null,
      "outputs": []
    },
    {
      "cell_type": "code",
      "source": [
        "# Flattening the list of arrays of residuals\n",
        "residuals = np.asarray(residuals).flatten().tolist()\n",
        "abs_residuals = [abs(x) for x in residuals]"
      ],
      "metadata": {
        "id": "JLyW86ecFDl3"
      },
      "execution_count": null,
      "outputs": []
    },
    {
      "cell_type": "code",
      "source": [
        "plt.figure(figsize=(12, 8))\n",
        "plt.hist(residuals, bins=40, edgecolor='black')\n",
        "plt.title('Distribution of errors - 24 hour forecast')\n",
        "plt.show()"
      ],
      "metadata": {
        "id": "Pqz8Tc3GFJId"
      },
      "execution_count": null,
      "outputs": []
    },
    {
      "cell_type": "code",
      "source": [
        "plt.figure(figsize=(12, 8))\n",
        "plt.hist(abs_residuals, bins=40, edgecolor='black')\n",
        "plt.title('Distribution of errors - 1 month forecast - absolute')\n",
        "plt.show()"
      ],
      "metadata": {
        "id": "36FkU34HFJLP"
      },
      "execution_count": null,
      "outputs": []
    },
    {
      "cell_type": "code",
      "source": [
        "print(f\"Median absoulte error: {round(np.median(abs_residuals), 2)} \")"
      ],
      "metadata": {
        "id": "sRnPZ51nFPiI"
      },
      "execution_count": null,
      "outputs": []
    }
  ]
}